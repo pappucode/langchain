{
 "cells": [
  {
   "cell_type": "code",
   "execution_count": null,
   "id": "925aa026",
   "metadata": {},
   "outputs": [
    {
     "name": "stdout",
     "output_type": "stream",
     "text": [
      "Requirement already satisfied: langchain in c:\\users\\user\\desktop\\llms\\genai\\lib\\site-packages (0.3.26)\n",
      "Requirement already satisfied: langchain-core in c:\\users\\user\\desktop\\llms\\genai\\lib\\site-packages (0.3.66)\n",
      "Requirement already satisfied: langchain-community in c:\\users\\user\\desktop\\llms\\genai\\lib\\site-packages (0.3.26)\n",
      "Requirement already satisfied: pydantic in c:\\users\\user\\desktop\\llms\\genai\\lib\\site-packages (2.11.7)\n",
      "Requirement already satisfied: duckduckgo-search in c:\\users\\user\\desktop\\llms\\genai\\lib\\site-packages (8.1.1)\n",
      "Requirement already satisfied: langchain_experimental in c:\\users\\user\\desktop\\llms\\genai\\lib\\site-packages (0.3.4)\n",
      "Note: you may need to restart the kernel to use updated packages.\n"
     ]
    },
    {
     "name": "stderr",
     "output_type": "stream",
     "text": [
      "ERROR: Could not find a version that satisfies the requirement SerpAPIWrapper (from versions: none)\n",
      "ERROR: No matching distribution found for SerpAPIWrapper\n",
      "c:\\Users\\user\\Desktop\\llms\\genai\\Lib\\site-packages\\IPython\\utils\\_process_win32.py:138: ResourceWarning: unclosed file <_io.BufferedWriter name=3>\n",
      "  res = process_handler(cmd, _system_body)\n",
      "ResourceWarning: Enable tracemalloc to get the object allocation traceback\n",
      "c:\\Users\\user\\Desktop\\llms\\genai\\Lib\\site-packages\\IPython\\utils\\_process_win32.py:138: ResourceWarning: unclosed file <_io.BufferedReader name=4>\n",
      "  res = process_handler(cmd, _system_body)\n",
      "ResourceWarning: Enable tracemalloc to get the object allocation traceback\n",
      "c:\\Users\\user\\Desktop\\llms\\genai\\Lib\\site-packages\\IPython\\utils\\_process_win32.py:138: ResourceWarning: unclosed file <_io.BufferedReader name=5>\n",
      "  res = process_handler(cmd, _system_body)\n",
      "ResourceWarning: Enable tracemalloc to get the object allocation traceback\n"
     ]
    }
   ],
   "source": [
    "%pip install langchain langchain-core langchain-community pydantic duckduckgo-search langchain_experimental "
   ]
  },
  {
   "cell_type": "markdown",
   "id": "8526008a",
   "metadata": {},
   "source": [
    "Built-in Tool - DuckDuckGo Search\n"
   ]
  },
  {
   "cell_type": "code",
   "execution_count": 26,
   "id": "9612a15c",
   "metadata": {},
   "outputs": [
    {
     "name": "stderr",
     "output_type": "stream",
     "text": [
      "c:\\Users\\user\\Desktop\\llms\\genai\\Lib\\site-packages\\langchain_community\\utilities\\duckduckgo_search.py:63: RuntimeWarning: This package (`duckduckgo_search`) has been renamed to `ddgs`! Use `pip install ddgs` instead.\n",
      "  with DDGS() as ddgs:\n"
     ]
    },
    {
     "name": "stdout",
     "output_type": "stream",
     "text": [
      "Read today's breaking news of Bangladesh on politics, sports, business, entertainment, weather, lifestyle, education, tourism and latest bd news 24 bdnews24 from leading Bangla News portal … আজকের সর্বশেষ খবর - বাংলাদেশসহ সারা বিশ্বে ঘটে যাওয়া আজকের ... Bangladesh newspapers and Bangla news sites including Bangladesh Pratidin, BD News 24, BD 24 Live and Bangla News 24. Read BD news online from all Bangla newspaper. Bangladesh Sangbad Sangstha (BSS) is the Fastest Growing Online Bangla News Portal in Bangladesh. It covers the Latest Bangla News, Breaking News, Sports, Education & more. Dhaka Tribune is one of the fastest-growing news sites in Bangladesh, due to its reputation of neutral coverage and intelligent analysis. A young group of...\n"
     ]
    }
   ],
   "source": [
    "from langchain_community.tools import DuckDuckGoSearchRun\n",
    "\n",
    "search_tool = DuckDuckGoSearchRun()\n",
    "results = search_tool.invoke(\"Top news in Bangladesh.\")\n",
    "\n",
    "print(results)"
   ]
  },
  {
   "cell_type": "code",
   "execution_count": 14,
   "id": "974f8af4",
   "metadata": {},
   "outputs": [
    {
     "name": "stdout",
     "output_type": "stream",
     "text": [
      "duckduckgo_search\n",
      "A wrapper around DuckDuckGo Search. Useful for when you need to answer questions about current events. Input should be a search query.\n",
      "{'query': {'description': 'search query to look up', 'title': 'Query', 'type': 'string'}}\n"
     ]
    }
   ],
   "source": [
    "print(search_tool.name)\n",
    "print(search_tool.description)\n",
    "print(search_tool.args)"
   ]
  },
  {
   "cell_type": "markdown",
   "id": "a4bf2670",
   "metadata": {},
   "source": [
    "Built-in Tool - Shell Tool"
   ]
  },
  {
   "cell_type": "code",
   "execution_count": 20,
   "id": "42d83a6e",
   "metadata": {},
   "outputs": [
    {
     "name": "stdout",
     "output_type": "stream",
     "text": [
      "Executing command:\n",
      " dir\n",
      " Volume in drive C has no label.\n",
      " Volume Serial Number is 624B-89C6\n",
      "\n",
      " Directory of c:\\Users\\user\\Desktop\\llms\\ai_agent\n",
      "\n",
      "07/08/2025  04:40 PM    <DIR>          .\n",
      "07/08/2025  04:38 PM    <DIR>          ..\n",
      "07/08/2025  06:09 PM            15,649 tools-in-langchain.ipynb\n",
      "               1 File(s)         15,649 bytes\n",
      "               2 Dir(s)  32,820,146,176 bytes free\n",
      "\n"
     ]
    },
    {
     "name": "stderr",
     "output_type": "stream",
     "text": [
      "c:\\Users\\user\\Desktop\\llms\\genai\\Lib\\site-packages\\langchain_community\\tools\\shell\\tool.py:33: UserWarning: The shell tool has no safeguards by default. Use at your own risk.\n",
      "  warnings.warn(\n"
     ]
    }
   ],
   "source": [
    "from langchain_community.tools import ShellTool\n",
    "\n",
    "shell_tool = ShellTool()\n",
    "\n",
    "results = shell_tool.invoke('dir')\n",
    "\n",
    "print(results)"
   ]
  },
  {
   "cell_type": "markdown",
   "id": "10ff9738",
   "metadata": {},
   "source": [
    "Custom Tools"
   ]
  },
  {
   "cell_type": "code",
   "execution_count": 43,
   "id": "371dd64a",
   "metadata": {},
   "outputs": [],
   "source": [
    "from langchain_core.tools import tool"
   ]
  },
  {
   "cell_type": "code",
   "execution_count": 44,
   "id": "542fc8b9",
   "metadata": {},
   "outputs": [],
   "source": [
    "# Step 1 - create a function\n",
    "def multiply(a,b):\n",
    "    \"\"\"Multiply two numbers\"\"\"\n",
    "    return a*b"
   ]
  },
  {
   "cell_type": "code",
   "execution_count": 53,
   "id": "274ba572",
   "metadata": {},
   "outputs": [],
   "source": [
    "# Step 2 - add type hints\n",
    "def multiply(a: int, b: int) -> int:\n",
    "    \"\"\"Multiply two numbers\"\"\"\n",
    "    return a*b"
   ]
  },
  {
   "cell_type": "code",
   "execution_count": 54,
   "id": "bd94768d",
   "metadata": {},
   "outputs": [],
   "source": [
    "# Step 3 - add tool decorator\n",
    "@tool\n",
    "def multiply(a: int, b: int) -> int:\n",
    "    \"\"\"Multiply two numbers\"\"\"\n",
    "    return a*b"
   ]
  },
  {
   "cell_type": "code",
   "execution_count": 55,
   "id": "9c045c95",
   "metadata": {},
   "outputs": [],
   "source": [
    "result = multiply.invoke({'a':3, 'b':5})"
   ]
  },
  {
   "cell_type": "code",
   "execution_count": 56,
   "id": "06dc6107",
   "metadata": {},
   "outputs": [
    {
     "name": "stdout",
     "output_type": "stream",
     "text": [
      "15\n"
     ]
    }
   ],
   "source": [
    "print(result)"
   ]
  },
  {
   "cell_type": "code",
   "execution_count": 57,
   "id": "b68f1213",
   "metadata": {},
   "outputs": [
    {
     "name": "stdout",
     "output_type": "stream",
     "text": [
      "multiply\n",
      "Multiply two numbers\n",
      "{'a': {'title': 'A', 'type': 'integer'}, 'b': {'title': 'B', 'type': 'integer'}}\n"
     ]
    }
   ],
   "source": [
    "print(multiply.name)\n",
    "print(multiply.description)\n",
    "print(multiply.args)"
   ]
  },
  {
   "cell_type": "code",
   "execution_count": 58,
   "id": "c77fbaa6",
   "metadata": {},
   "outputs": [
    {
     "name": "stdout",
     "output_type": "stream",
     "text": [
      "{'description': 'Multiply two numbers', 'properties': {'a': {'title': 'A', 'type': 'integer'}, 'b': {'title': 'B', 'type': 'integer'}}, 'required': ['a', 'b'], 'title': 'multiply', 'type': 'object'}\n"
     ]
    }
   ],
   "source": [
    "print(multiply.args_schema.model_json_schema())"
   ]
  },
  {
   "cell_type": "code",
   "execution_count": null,
   "id": "d4b0ce97",
   "metadata": {},
   "outputs": [],
   "source": []
  }
 ],
 "metadata": {
  "kernelspec": {
   "display_name": "genai",
   "language": "python",
   "name": "python3"
  },
  "language_info": {
   "codemirror_mode": {
    "name": "ipython",
    "version": 3
   },
   "file_extension": ".py",
   "mimetype": "text/x-python",
   "name": "python",
   "nbconvert_exporter": "python",
   "pygments_lexer": "ipython3",
   "version": "3.13.5"
  }
 },
 "nbformat": 4,
 "nbformat_minor": 5
}
