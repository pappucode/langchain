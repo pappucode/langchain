{
 "cells": [
  {
   "cell_type": "code",
   "execution_count": 1,
   "id": "925aa026",
   "metadata": {},
   "outputs": [
    {
     "name": "stdout",
     "output_type": "stream",
     "text": [
      "Requirement already satisfied: langchain in c:\\users\\admin\\desktop\\langchain\\langchain\\lib\\site-packages (0.3.27)\n",
      "Requirement already satisfied: langchain-core in c:\\users\\admin\\desktop\\langchain\\langchain\\lib\\site-packages (0.3.74)\n",
      "Requirement already satisfied: langchain-community in c:\\users\\admin\\desktop\\langchain\\langchain\\lib\\site-packages (0.3.27)\n",
      "Requirement already satisfied: pydantic in c:\\users\\admin\\desktop\\langchain\\langchain\\lib\\site-packages (2.11.7)\n",
      "Requirement already satisfied: duckduckgo-search in c:\\users\\admin\\desktop\\langchain\\langchain\\lib\\site-packages (8.1.1)\n",
      "Requirement already satisfied: langchain_experimental in c:\\users\\admin\\desktop\\langchain\\langchain\\lib\\site-packages (0.3.4)\n",
      "Requirement already satisfied: langchain-text-splitters<1.0.0,>=0.3.9 in c:\\users\\admin\\desktop\\langchain\\langchain\\lib\\site-packages (from langchain) (0.3.9)\n",
      "Requirement already satisfied: langsmith>=0.1.17 in c:\\users\\admin\\desktop\\langchain\\langchain\\lib\\site-packages (from langchain) (0.4.17)\n",
      "Requirement already satisfied: SQLAlchemy<3,>=1.4 in c:\\users\\admin\\desktop\\langchain\\langchain\\lib\\site-packages (from langchain) (2.0.43)\n",
      "Requirement already satisfied: requests<3,>=2 in c:\\users\\admin\\desktop\\langchain\\langchain\\lib\\site-packages (from langchain) (2.32.5)\n",
      "Requirement already satisfied: PyYAML>=5.3 in c:\\users\\admin\\desktop\\langchain\\langchain\\lib\\site-packages (from langchain) (6.0.2)\n",
      "Requirement already satisfied: tenacity!=8.4.0,<10.0.0,>=8.1.0 in c:\\users\\admin\\desktop\\langchain\\langchain\\lib\\site-packages (from langchain-core) (9.1.2)\n",
      "Requirement already satisfied: jsonpatch<2.0,>=1.33 in c:\\users\\admin\\desktop\\langchain\\langchain\\lib\\site-packages (from langchain-core) (1.33)\n",
      "Requirement already satisfied: typing-extensions>=4.7 in c:\\users\\admin\\desktop\\langchain\\langchain\\lib\\site-packages (from langchain-core) (4.15.0)\n",
      "Requirement already satisfied: packaging>=23.2 in c:\\users\\admin\\desktop\\langchain\\langchain\\lib\\site-packages (from langchain-core) (24.2)\n",
      "Requirement already satisfied: annotated-types>=0.6.0 in c:\\users\\admin\\desktop\\langchain\\langchain\\lib\\site-packages (from pydantic) (0.7.0)\n",
      "Requirement already satisfied: pydantic-core==2.33.2 in c:\\users\\admin\\desktop\\langchain\\langchain\\lib\\site-packages (from pydantic) (2.33.2)\n",
      "Requirement already satisfied: typing-inspection>=0.4.0 in c:\\users\\admin\\desktop\\langchain\\langchain\\lib\\site-packages (from pydantic) (0.4.1)\n",
      "Requirement already satisfied: jsonpointer>=1.9 in c:\\users\\admin\\desktop\\langchain\\langchain\\lib\\site-packages (from jsonpatch<2.0,>=1.33->langchain-core) (3.0.0)\n",
      "Requirement already satisfied: charset_normalizer<4,>=2 in c:\\users\\admin\\desktop\\langchain\\langchain\\lib\\site-packages (from requests<3,>=2->langchain) (3.4.3)\n",
      "Requirement already satisfied: idna<4,>=2.5 in c:\\users\\admin\\desktop\\langchain\\langchain\\lib\\site-packages (from requests<3,>=2->langchain) (3.10)\n",
      "Requirement already satisfied: urllib3<3,>=1.21.1 in c:\\users\\admin\\desktop\\langchain\\langchain\\lib\\site-packages (from requests<3,>=2->langchain) (2.5.0)\n",
      "Requirement already satisfied: certifi>=2017.4.17 in c:\\users\\admin\\desktop\\langchain\\langchain\\lib\\site-packages (from requests<3,>=2->langchain) (2025.8.3)\n",
      "Requirement already satisfied: greenlet>=1 in c:\\users\\admin\\desktop\\langchain\\langchain\\lib\\site-packages (from SQLAlchemy<3,>=1.4->langchain) (3.2.4)\n",
      "Requirement already satisfied: aiohttp<4.0.0,>=3.8.3 in c:\\users\\admin\\desktop\\langchain\\langchain\\lib\\site-packages (from langchain-community) (3.12.15)\n",
      "Requirement already satisfied: dataclasses-json<0.7,>=0.5.7 in c:\\users\\admin\\desktop\\langchain\\langchain\\lib\\site-packages (from langchain-community) (0.6.7)\n",
      "Requirement already satisfied: pydantic-settings<3.0.0,>=2.4.0 in c:\\users\\admin\\desktop\\langchain\\langchain\\lib\\site-packages (from langchain-community) (2.10.1)\n",
      "Requirement already satisfied: httpx-sse<1.0.0,>=0.4.0 in c:\\users\\admin\\desktop\\langchain\\langchain\\lib\\site-packages (from langchain-community) (0.4.1)\n",
      "Requirement already satisfied: numpy>=2.1.0 in c:\\users\\admin\\desktop\\langchain\\langchain\\lib\\site-packages (from langchain-community) (2.3.2)\n",
      "Requirement already satisfied: aiohappyeyeballs>=2.5.0 in c:\\users\\admin\\desktop\\langchain\\langchain\\lib\\site-packages (from aiohttp<4.0.0,>=3.8.3->langchain-community) (2.6.1)\n",
      "Requirement already satisfied: aiosignal>=1.4.0 in c:\\users\\admin\\desktop\\langchain\\langchain\\lib\\site-packages (from aiohttp<4.0.0,>=3.8.3->langchain-community) (1.4.0)\n",
      "Requirement already satisfied: attrs>=17.3.0 in c:\\users\\admin\\desktop\\langchain\\langchain\\lib\\site-packages (from aiohttp<4.0.0,>=3.8.3->langchain-community) (25.3.0)\n",
      "Requirement already satisfied: frozenlist>=1.1.1 in c:\\users\\admin\\desktop\\langchain\\langchain\\lib\\site-packages (from aiohttp<4.0.0,>=3.8.3->langchain-community) (1.7.0)\n",
      "Requirement already satisfied: multidict<7.0,>=4.5 in c:\\users\\admin\\desktop\\langchain\\langchain\\lib\\site-packages (from aiohttp<4.0.0,>=3.8.3->langchain-community) (6.6.4)\n",
      "Requirement already satisfied: propcache>=0.2.0 in c:\\users\\admin\\desktop\\langchain\\langchain\\lib\\site-packages (from aiohttp<4.0.0,>=3.8.3->langchain-community) (0.3.2)\n",
      "Requirement already satisfied: yarl<2.0,>=1.17.0 in c:\\users\\admin\\desktop\\langchain\\langchain\\lib\\site-packages (from aiohttp<4.0.0,>=3.8.3->langchain-community) (1.20.1)\n",
      "Requirement already satisfied: marshmallow<4.0.0,>=3.18.0 in c:\\users\\admin\\desktop\\langchain\\langchain\\lib\\site-packages (from dataclasses-json<0.7,>=0.5.7->langchain-community) (3.26.1)\n",
      "Requirement already satisfied: typing-inspect<1,>=0.4.0 in c:\\users\\admin\\desktop\\langchain\\langchain\\lib\\site-packages (from dataclasses-json<0.7,>=0.5.7->langchain-community) (0.9.0)\n",
      "Requirement already satisfied: python-dotenv>=0.21.0 in c:\\users\\admin\\desktop\\langchain\\langchain\\lib\\site-packages (from pydantic-settings<3.0.0,>=2.4.0->langchain-community) (1.1.1)\n",
      "Requirement already satisfied: mypy-extensions>=0.3.0 in c:\\users\\admin\\desktop\\langchain\\langchain\\lib\\site-packages (from typing-inspect<1,>=0.4.0->dataclasses-json<0.7,>=0.5.7->langchain-community) (1.1.0)\n",
      "Requirement already satisfied: click>=8.1.8 in c:\\users\\admin\\desktop\\langchain\\langchain\\lib\\site-packages (from duckduckgo-search) (8.2.1)\n",
      "Requirement already satisfied: primp>=0.15.0 in c:\\users\\admin\\desktop\\langchain\\langchain\\lib\\site-packages (from duckduckgo-search) (0.15.0)\n",
      "Requirement already satisfied: lxml>=5.3.0 in c:\\users\\admin\\desktop\\langchain\\langchain\\lib\\site-packages (from duckduckgo-search) (6.0.1)\n",
      "Requirement already satisfied: colorama in c:\\users\\admin\\desktop\\langchain\\langchain\\lib\\site-packages (from click>=8.1.8->duckduckgo-search) (0.4.6)\n",
      "Requirement already satisfied: httpx<1,>=0.23.0 in c:\\users\\admin\\desktop\\langchain\\langchain\\lib\\site-packages (from langsmith>=0.1.17->langchain) (0.28.1)\n",
      "Requirement already satisfied: orjson>=3.9.14 in c:\\users\\admin\\desktop\\langchain\\langchain\\lib\\site-packages (from langsmith>=0.1.17->langchain) (3.11.2)\n",
      "Requirement already satisfied: requests-toolbelt>=1.0.0 in c:\\users\\admin\\desktop\\langchain\\langchain\\lib\\site-packages (from langsmith>=0.1.17->langchain) (1.0.0)\n",
      "Requirement already satisfied: zstandard>=0.23.0 in c:\\users\\admin\\desktop\\langchain\\langchain\\lib\\site-packages (from langsmith>=0.1.17->langchain) (0.24.0)\n",
      "Requirement already satisfied: anyio in c:\\users\\admin\\desktop\\langchain\\langchain\\lib\\site-packages (from httpx<1,>=0.23.0->langsmith>=0.1.17->langchain) (4.10.0)\n",
      "Requirement already satisfied: httpcore==1.* in c:\\users\\admin\\desktop\\langchain\\langchain\\lib\\site-packages (from httpx<1,>=0.23.0->langsmith>=0.1.17->langchain) (1.0.9)\n",
      "Requirement already satisfied: h11>=0.16 in c:\\users\\admin\\desktop\\langchain\\langchain\\lib\\site-packages (from httpcore==1.*->httpx<1,>=0.23.0->langsmith>=0.1.17->langchain) (0.16.0)\n",
      "Requirement already satisfied: sniffio>=1.1 in c:\\users\\admin\\desktop\\langchain\\langchain\\lib\\site-packages (from anyio->httpx<1,>=0.23.0->langsmith>=0.1.17->langchain) (1.3.1)\n",
      "Note: you may need to restart the kernel to use updated packages.\n"
     ]
    }
   ],
   "source": [
    "%pip install langchain langchain-core langchain-community pydantic duckduckgo-search langchain_experimental "
   ]
  },
  {
   "cell_type": "markdown",
   "id": "8526008a",
   "metadata": {},
   "source": [
    "Built-in Tool - DuckDuckGo Search\n"
   ]
  },
  {
   "cell_type": "code",
   "execution_count": 2,
   "id": "9612a15c",
   "metadata": {},
   "outputs": [
    {
     "name": "stderr",
     "output_type": "stream",
     "text": [
      "c:\\Users\\Admin\\Desktop\\langchain\\langchain\\Lib\\site-packages\\langchain_community\\utilities\\duckduckgo_search.py:63: RuntimeWarning: This package (`duckduckgo_search`) has been renamed to `ddgs`! Use `pip install ddgs` instead.\n",
      "  with DDGS() as ddgs:\n"
     ]
    },
    {
     "name": "stdout",
     "output_type": "stream",
     "text": [
      "TOP definition: 1. the highest place or part: 2. the flat upper surface of something: 3. in baseball, the first…. Learn more. The top quark is the heaviest of all known quarks. Quark top là quark nặng nhất trong số tất cả các quark đã biết. Thông dụng Danh từ Con vụ, con quay (đồ chơi quay trên một điểm khi cho quay bằng tay hoặc bằng sợi dây..) the top sleeps; the top is asleep con vụ quay tít [singular] the top (of something) the highest or most important rank or position He's at the top of his profession. She is determined to make it to the top (= achieve fame or success). Top definition: the highest or loftiest point or part of anything on a slope; apex; summit.. See examples of TOP used in a sentence.\n"
     ]
    }
   ],
   "source": [
    "from langchain_community.tools import DuckDuckGoSearchRun\n",
    "\n",
    "search_tool = DuckDuckGoSearchRun()\n",
    "results = search_tool.invoke(\"Top news in Bangladesh.\")\n",
    "\n",
    "print(results)"
   ]
  },
  {
   "cell_type": "code",
   "execution_count": 3,
   "id": "974f8af4",
   "metadata": {},
   "outputs": [
    {
     "name": "stdout",
     "output_type": "stream",
     "text": [
      "duckduckgo_search\n",
      "A wrapper around DuckDuckGo Search. Useful for when you need to answer questions about current events. Input should be a search query.\n",
      "{'query': {'description': 'search query to look up', 'title': 'Query', 'type': 'string'}}\n"
     ]
    }
   ],
   "source": [
    "print(search_tool.name)\n",
    "print(search_tool.description)\n",
    "print(search_tool.args)"
   ]
  },
  {
   "cell_type": "markdown",
   "id": "a4bf2670",
   "metadata": {},
   "source": [
    "Built-in Tool - Shell Tool"
   ]
  },
  {
   "cell_type": "code",
   "execution_count": 4,
   "id": "42d83a6e",
   "metadata": {},
   "outputs": [
    {
     "name": "stdout",
     "output_type": "stream",
     "text": [
      "Executing command:\n",
      " dir\n",
      " Volume in drive C has no label.\n",
      " Volume Serial Number is C282-4AD6\n",
      "\n",
      " Directory of c:\\Users\\Admin\\Desktop\\langchain\\ai_agent\n",
      "\n",
      "08/24/2025  10:15 AM    <DIR>          .\n",
      "08/24/2025  10:15 AM    <DIR>          ..\n",
      "08/26/2025  11:11 AM            18,497 agents_in_langchain.ipynb\n",
      "08/24/2025  10:15 AM            21,057 currency_converter.ipynb\n",
      "08/26/2025  02:43 PM            21,951 tools_in_langchain.ipynb\n",
      "08/24/2025  10:15 AM            13,020 tool_calling_in_langchain.ipynb\n",
      "               4 File(s)         74,525 bytes\n",
      "               2 Dir(s)  55,565,709,312 bytes free\n",
      "\n"
     ]
    },
    {
     "name": "stderr",
     "output_type": "stream",
     "text": [
      "c:\\Users\\Admin\\Desktop\\langchain\\langchain\\Lib\\site-packages\\langchain_community\\tools\\shell\\tool.py:33: UserWarning: The shell tool has no safeguards by default. Use at your own risk.\n",
      "  warnings.warn(\n"
     ]
    }
   ],
   "source": [
    "from langchain_community.tools import ShellTool\n",
    "\n",
    "shell_tool = ShellTool()\n",
    "\n",
    "results = shell_tool.invoke('dir')\n",
    "\n",
    "print(results)"
   ]
  },
  {
   "cell_type": "markdown",
   "id": "10ff9738",
   "metadata": {},
   "source": [
    "Custom Tools"
   ]
  },
  {
   "cell_type": "code",
   "execution_count": 5,
   "id": "371dd64a",
   "metadata": {},
   "outputs": [],
   "source": [
    "from langchain_core.tools import tool"
   ]
  },
  {
   "cell_type": "code",
   "execution_count": 6,
   "id": "542fc8b9",
   "metadata": {},
   "outputs": [],
   "source": [
    "# Step 1 - create a function\n",
    "def multiply(a,b):\n",
    "    \"\"\"Multiply two numbers\"\"\"\n",
    "    return a*b"
   ]
  },
  {
   "cell_type": "code",
   "execution_count": 7,
   "id": "274ba572",
   "metadata": {},
   "outputs": [],
   "source": [
    "# Step 2 - add type hints\n",
    "def multiply(a: int, b: int) -> int:\n",
    "    \"\"\"Multiply two numbers\"\"\"\n",
    "    return a*b"
   ]
  },
  {
   "cell_type": "code",
   "execution_count": 8,
   "id": "bd94768d",
   "metadata": {},
   "outputs": [],
   "source": [
    "# Step 3 - add tool decorator\n",
    "@tool\n",
    "def multiply(a: int, b: int) -> int:\n",
    "    \"\"\"Multiply two numbers\"\"\"\n",
    "    return a*b"
   ]
  },
  {
   "cell_type": "code",
   "execution_count": 9,
   "id": "9c045c95",
   "metadata": {},
   "outputs": [],
   "source": [
    "result = multiply.invoke({'a':3, 'b':5})"
   ]
  },
  {
   "cell_type": "code",
   "execution_count": 10,
   "id": "06dc6107",
   "metadata": {},
   "outputs": [
    {
     "name": "stdout",
     "output_type": "stream",
     "text": [
      "15\n"
     ]
    }
   ],
   "source": [
    "print(result)"
   ]
  },
  {
   "cell_type": "code",
   "execution_count": 11,
   "id": "b68f1213",
   "metadata": {},
   "outputs": [
    {
     "name": "stdout",
     "output_type": "stream",
     "text": [
      "multiply\n",
      "Multiply two numbers\n",
      "{'a': {'title': 'A', 'type': 'integer'}, 'b': {'title': 'B', 'type': 'integer'}}\n"
     ]
    }
   ],
   "source": [
    "print(multiply.name)\n",
    "print(multiply.description)\n",
    "print(multiply.args)"
   ]
  },
  {
   "cell_type": "code",
   "execution_count": 12,
   "id": "9640e2a5",
   "metadata": {},
   "outputs": [
    {
     "name": "stdout",
     "output_type": "stream",
     "text": [
      "duckduckgo_search\n",
      "A wrapper around DuckDuckGo Search. Useful for when you need to answer questions about current events. Input should be a search query.\n",
      "{'query': {'description': 'search query to look up', 'title': 'Query', 'type': 'string'}}\n"
     ]
    }
   ],
   "source": [
    "print(search_tool.name)\n",
    "print(search_tool.description)\n",
    "print(search_tool.args)"
   ]
  },
  {
   "cell_type": "code",
   "execution_count": 13,
   "id": "c77fbaa6",
   "metadata": {},
   "outputs": [
    {
     "name": "stdout",
     "output_type": "stream",
     "text": [
      "{'description': 'Multiply two numbers', 'properties': {'a': {'title': 'A', 'type': 'integer'}, 'b': {'title': 'B', 'type': 'integer'}}, 'required': ['a', 'b'], 'title': 'multiply', 'type': 'object'}\n"
     ]
    }
   ],
   "source": [
    "print(multiply.args_schema.model_json_schema())"
   ]
  },
  {
   "cell_type": "markdown",
   "id": "4c1a5109",
   "metadata": {},
   "source": [
    "Method 2 - Using StructuredTool"
   ]
  },
  {
   "cell_type": "code",
   "execution_count": 14,
   "id": "d4b0ce97",
   "metadata": {},
   "outputs": [],
   "source": [
    "from langchain.tools import StructuredTool\n",
    "from pydantic import BaseModel, Field"
   ]
  },
  {
   "cell_type": "code",
   "execution_count": 15,
   "id": "04f442a8",
   "metadata": {},
   "outputs": [],
   "source": [
    "class MultiplyInput(BaseModel):\n",
    "    a: int = Field(True, description='The first number to add')\n",
    "    b: int = Field(True, description = 'The second number to add')"
   ]
  },
  {
   "cell_type": "code",
   "execution_count": 16,
   "id": "9f67ca69",
   "metadata": {},
   "outputs": [],
   "source": [
    "def multiply_func(a: int, b: int) -> int:\n",
    "    return a * b"
   ]
  },
  {
   "cell_type": "code",
   "execution_count": 17,
   "id": "fbcc5f97",
   "metadata": {},
   "outputs": [],
   "source": [
    "multiply_tool = StructuredTool.from_function(\n",
    "    func = multiply_func,\n",
    "    name = \"multiply\",\n",
    "    description= 'Multiply two numbers',\n",
    "    args_schema=MultiplyInput\n",
    ")"
   ]
  },
  {
   "cell_type": "code",
   "execution_count": 18,
   "id": "0f974554",
   "metadata": {},
   "outputs": [
    {
     "name": "stdout",
     "output_type": "stream",
     "text": [
      "9\n",
      "multiply\n",
      "Multiply two numbers\n",
      "{'a': {'default': True, 'description': 'The first number to add', 'title': 'A', 'type': 'integer'}, 'b': {'default': True, 'description': 'The second number to add', 'title': 'B', 'type': 'integer'}}\n"
     ]
    }
   ],
   "source": [
    "result = multiply_tool.invoke({'a':3, 'b':3})\n",
    "print(result)\n",
    "print(multiply_tool.name)\n",
    "print(multiply_tool.description)\n",
    "print(multiply_tool.args)"
   ]
  },
  {
   "cell_type": "markdown",
   "id": "c007e390",
   "metadata": {},
   "source": [
    "Method 3 - Using BaseTool Class"
   ]
  },
  {
   "cell_type": "code",
   "execution_count": null,
   "id": "4c85a699",
   "metadata": {},
   "outputs": [],
   "source": [
    "from langchain.tools import BaseTool\n",
    "from typing import Type"
   ]
  },
  {
   "cell_type": "code",
   "execution_count": 21,
   "id": "4c34895c",
   "metadata": {},
   "outputs": [],
   "source": [
    "# arg schema using pydantic\n",
    "\n",
    "class MultiplyInput(BaseModel):\n",
    "    a: int = Field(True, description=\"The first number to add\")\n",
    "    b: int = Field(True, description=\"The second number to add\")"
   ]
  },
  {
   "cell_type": "code",
   "execution_count": null,
   "id": "60e640f4",
   "metadata": {},
   "outputs": [],
   "source": [
    "class MultiplyTool(BaseTool):\n",
    "    name: str = \"Multiply\"\n",
    "    description: str = \"Multiply two numbers\"\n",
    "\n",
    "    args_schema: Type[BaseModel] = MultiplyInput\n",
    "\n",
    "    def _run(self, a: int, b:int) -> int:\n",
    "        return a*b\n"
   ]
  },
  {
   "cell_type": "code",
   "execution_count": 23,
   "id": "b9fb10e8",
   "metadata": {},
   "outputs": [],
   "source": [
    "multiply_tool = MultiplyTool()"
   ]
  },
  {
   "cell_type": "code",
   "execution_count": 24,
   "id": "78ce5dde",
   "metadata": {},
   "outputs": [
    {
     "name": "stdout",
     "output_type": "stream",
     "text": [
      "9\n",
      "Multiply\n",
      "Multiply two numbers\n",
      "{'a': {'default': True, 'description': 'The first number to add', 'title': 'A', 'type': 'integer'}, 'b': {'default': True, 'description': 'The second number to add', 'title': 'B', 'type': 'integer'}}\n"
     ]
    }
   ],
   "source": [
    "result = multiply_tool.invoke({'a':3, 'b':3})\n",
    "\n",
    "print(result)\n",
    "print(multiply_tool.name)\n",
    "print(multiply_tool.description)\n",
    "\n",
    "print(multiply_tool.args)"
   ]
  },
  {
   "cell_type": "markdown",
   "id": "8ab2d105",
   "metadata": {},
   "source": [
    "Toolkit"
   ]
  },
  {
   "cell_type": "code",
   "execution_count": 25,
   "id": "cda80ee3",
   "metadata": {},
   "outputs": [],
   "source": [
    "from langchain_core.tools import tool"
   ]
  },
  {
   "cell_type": "code",
   "execution_count": 26,
   "id": "05fb6b90",
   "metadata": {},
   "outputs": [],
   "source": [
    "# Custom tools\n",
    "@tool\n",
    "def add(a: int, b: int) -> int:\n",
    "    \"\"\"Add two numbers\"\"\"\n",
    "    return a + b\n",
    "\n",
    "@tool\n",
    "def multiply(a: int, b: int) -> int:\n",
    "    \"\"\"Multiply two numbers\"\"\"\n",
    "    return a * b"
   ]
  },
  {
   "cell_type": "code",
   "execution_count": 27,
   "id": "d89ed017",
   "metadata": {},
   "outputs": [],
   "source": [
    "class MathToolkit:\n",
    "    def get_tools(self):\n",
    "        return[add, multiply]"
   ]
  },
  {
   "cell_type": "code",
   "execution_count": 28,
   "id": "6ada5798",
   "metadata": {},
   "outputs": [
    {
     "name": "stdout",
     "output_type": "stream",
     "text": [
      "add => Add two numbers\n",
      "multiply => Multiply two numbers\n"
     ]
    }
   ],
   "source": [
    "toolkit = MathToolkit()\n",
    "\n",
    "tools = toolkit.get_tools()\n",
    "\n",
    "for tool in tools:\n",
    "    print(tool.name, \"=>\",tool.description )"
   ]
  },
  {
   "cell_type": "code",
   "execution_count": null,
   "id": "5aca9d6b",
   "metadata": {},
   "outputs": [],
   "source": []
  }
 ],
 "metadata": {
  "kernelspec": {
   "display_name": "langchain (3.13.7)",
   "language": "python",
   "name": "python3"
  },
  "language_info": {
   "codemirror_mode": {
    "name": "ipython",
    "version": 3
   },
   "file_extension": ".py",
   "mimetype": "text/x-python",
   "name": "python",
   "nbconvert_exporter": "python",
   "pygments_lexer": "ipython3",
   "version": "3.13.7"
  }
 },
 "nbformat": 4,
 "nbformat_minor": 5
}
