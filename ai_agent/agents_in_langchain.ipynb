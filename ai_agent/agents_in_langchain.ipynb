{
 "cells": [
  {
   "cell_type": "code",
   "execution_count": 117,
   "id": "17595150",
   "metadata": {},
   "outputs": [],
   "source": [
    "from langchain_openai import ChatOpenAI\n",
    "from langchain_core.tools import tool\n",
    "import requests\n",
    "from dotenv import load_dotenv"
   ]
  },
  {
   "cell_type": "code",
   "execution_count": 118,
   "id": "83451ab1",
   "metadata": {},
   "outputs": [
    {
     "name": "stdout",
     "output_type": "stream",
     "text": [
      "Note: you may need to restart the kernel to use updated packages.\n"
     ]
    },
    {
     "name": "stderr",
     "output_type": "stream",
     "text": [
      "c:\\Users\\Admin\\Desktop\\langchain\\langchain\\Lib\\site-packages\\IPython\\utils\\_process_win32.py:138: ResourceWarning: unclosed file <_io.BufferedWriter name=3>\n",
      "  res = process_handler(cmd, _system_body)\n",
      "ResourceWarning: Enable tracemalloc to get the object allocation traceback\n",
      "c:\\Users\\Admin\\Desktop\\langchain\\langchain\\Lib\\site-packages\\IPython\\utils\\_process_win32.py:138: ResourceWarning: unclosed file <_io.BufferedReader name=4>\n",
      "  res = process_handler(cmd, _system_body)\n",
      "ResourceWarning: Enable tracemalloc to get the object allocation traceback\n",
      "c:\\Users\\Admin\\Desktop\\langchain\\langchain\\Lib\\site-packages\\IPython\\utils\\_process_win32.py:138: ResourceWarning: unclosed file <_io.BufferedReader name=5>\n",
      "  res = process_handler(cmd, _system_body)\n",
      "ResourceWarning: Enable tracemalloc to get the object allocation traceback\n"
     ]
    }
   ],
   "source": [
    "%pip install -q langchain-openai langchain-community langchain-core requests duckduckgo-search ddgs"
   ]
  },
  {
   "cell_type": "code",
   "execution_count": 119,
   "id": "2df8e3c1",
   "metadata": {},
   "outputs": [
    {
     "data": {
      "text/plain": [
       "True"
      ]
     },
     "execution_count": 119,
     "metadata": {},
     "output_type": "execute_result"
    }
   ],
   "source": [
    "load_dotenv()"
   ]
  },
  {
   "cell_type": "code",
   "execution_count": 120,
   "id": "acf23176",
   "metadata": {},
   "outputs": [],
   "source": [
    "# from ddgs import DDGS\n",
    "\n",
    "# with DDGS() as ddgs:\n",
    "#     results = ddgs.text(\"What is the top news today in BD?\", region=\"bd-en\")\n",
    "#     for result in results:\n",
    "#         print(result[\"title\"], \"-\", result[\"href\"])"
   ]
  },
  {
   "cell_type": "code",
   "execution_count": 121,
   "id": "edb65cf9",
   "metadata": {},
   "outputs": [],
   "source": [
    "from langchain.tools import Tool\n",
    "from ddgs import DDGS\n",
    "\n",
    "def duckduckgo_search(query: str) -> str:\n",
    "    with DDGS() as ddgs:\n",
    "        results = ddgs.text(query, region=\"bd-en\")\n",
    "        return \"\\n\".join([res[\"title\"] for res in results])\n",
    "\n",
    "search_tool = Tool(\n",
    "    name=\"duckduckgo_search\",\n",
    "    func=duckduckgo_search,\n",
    "    description=\"Useful for answering questions about recent events or web searches\"\n",
    ")\n"
   ]
  },
  {
   "cell_type": "code",
   "execution_count": 122,
   "id": "01dcc1c6",
   "metadata": {},
   "outputs": [
    {
     "name": "stderr",
     "output_type": "stream",
     "text": [
      "C:\\Users\\Admin\\AppData\\Local\\Temp\\ipykernel_4816\\499124261.py:3: RuntimeWarning: This package (`duckduckgo_search`) has been renamed to `ddgs`! Use `pip install ddgs` instead.\n",
      "  results = DDGS().text(\"top news in Bangladesh today\")\n"
     ]
    },
    {
     "name": "stdout",
     "output_type": "stream",
     "text": [
      "[{'title': \"Bangladesh: Protesters set fire to home of Sheikh Hasina's father\", 'href': 'https://www.bbc.com/news/articles/cqld7x1n22do', 'body': 'Feb 6, 2025 · Protesters in Bangladesh have vandalised and set fire to the former family home of deposed prime minister Sheikh …'}, {'title': '- BBC News বাংলা', 'href': 'https://www.bbc.com/bengali/articles/crr54nx5814o', 'body': 'Oct 17, 2024 · বৈষম্যবিরোধী ছাত্র আন্দোলনে নিহতদের পরিবারকে ৩০ লাখ টাকা করে ...'}, {'title': \"Bangladesh: UN says Sheikh Hasina's crackdown may be crim…\", 'href': 'https://www.bbc.com/news/articles/cnvqle40183o', 'body': 'Feb 12, 2025 · Former Bangladesh prime minister Sheikh Hasina and her government tried to cling to power using systematic, …'}, {'title': 'BBC News Channel | Watch Live Breaking News', 'href': 'https://www.bbc.com/watch-live-news', 'body': 'Watch live breaking news from around the world 24 hours a day every day on the BBC News channel'}, {'title': 'Bangladesh: Fierce protests as eight-year-old rape victim dies', 'href': 'https://www.bbc.com/news/articles/ce30k9g6x2eo', 'body': 'Mar 14, 2025 · An eight-year-old child who was raped in Bangladesh died of her injuries on Thursday, setting off fierce protests …'}]\n"
     ]
    }
   ],
   "source": [
    "from duckduckgo_search import DDGS\n",
    "\n",
    "results = DDGS().text(\"top news in Bangladesh today\")\n",
    "print(results)"
   ]
  },
  {
   "cell_type": "code",
   "execution_count": 123,
   "id": "d380d5b3",
   "metadata": {},
   "outputs": [
    {
     "name": "stderr",
     "output_type": "stream",
     "text": [
      "C:\\Users\\Admin\\AppData\\Local\\Temp\\ipykernel_4816\\3976076324.py:5: RuntimeWarning: This package (`duckduckgo_search`) has been renamed to `ddgs`! Use `pip install ddgs` instead.\n",
      "  with DDGS() as ddgs:\n"
     ]
    },
    {
     "name": "stdout",
     "output_type": "stream",
     "text": [
      "লাইভ ক্রিকেট স্কোর, সর্বশেষ ক্রিকেট খবর, আইসিসি …\n",
      "Bangladesh latest and breaking cricket news - Cricbuzz\n",
      "Cricket | The Daily Star\n",
      "Latest News and Updates for Bangladesh | Cricket Times\n",
      "Bangladesh Cricket News: Latest Bangladesh Cricket News and …\n",
      "Latest and breaking Cricket News update - Live score BD\n",
      "Today's Cricket Match | Cricket Update | Cricket News | ESPNcricinfo\n",
      "Bangladesh Cricket Team News | Latest News - NewsNow\n",
      "Bangladesh Cricket Live Score - Cricket News, Cricket videos\n",
      "Bangladesh Latest News, Stats, Videos And Most Recent Updates\n"
     ]
    }
   ],
   "source": [
    "print(search_tool.invoke(\"Top cricket related news bd today\"))"
   ]
  },
  {
   "cell_type": "code",
   "execution_count": 124,
   "id": "a85a2858",
   "metadata": {},
   "outputs": [
    {
     "name": "stderr",
     "output_type": "stream",
     "text": [
      "c:\\Users\\Admin\\Desktop\\langchain\\langchain\\Lib\\site-packages\\langchain_community\\utilities\\duckduckgo_search.py:63: RuntimeWarning: This package (`duckduckgo_search`) has been renamed to `ddgs`! Use `pip install ddgs` instead.\n",
      "  with DDGS() as ddgs:\n"
     ]
    }
   ],
   "source": [
    "from langchain_community.tools import DuckDuckGoSearchRun\n",
    "\n",
    "\n",
    "search_tool = DuckDuckGoSearchRun()\n",
    "\n",
    "result = search_tool.invoke(\"top news in Bangladesh today\")"
   ]
  },
  {
   "cell_type": "code",
   "execution_count": 125,
   "id": "0deef4a1",
   "metadata": {},
   "outputs": [],
   "source": [
    "#print(result)"
   ]
  },
  {
   "cell_type": "code",
   "execution_count": 126,
   "id": "016ab687",
   "metadata": {},
   "outputs": [],
   "source": [
    "import os\n",
    "API_KEY = os.getenv(\"WEATHERSTACK_API_KEY\")\n",
    "\n",
    "@tool\n",
    "def get_weather_data(city: str) -> str:\n",
    "  \"\"\"\n",
    "  This function fetches the current weather data for a given city\n",
    "  \"\"\"\n",
    "  url = f'https://api.weatherstack.com/current?access_key={API_KEY}&query={city}'\n",
    "\n",
    "  response = requests.get(url)\n",
    "\n",
    "  return response.json()"
   ]
  },
  {
   "cell_type": "code",
   "execution_count": 127,
   "id": "55c668f5",
   "metadata": {},
   "outputs": [],
   "source": [
    "llm = ChatOpenAI()"
   ]
  },
  {
   "cell_type": "code",
   "execution_count": 128,
   "id": "0f72a3f7",
   "metadata": {},
   "outputs": [
    {
     "data": {
      "text/plain": [
       "AIMessage(content='Hello! How can I assist you today?', additional_kwargs={'refusal': None}, response_metadata={'token_usage': {'completion_tokens': 9, 'prompt_tokens': 8, 'total_tokens': 17, 'completion_tokens_details': {'accepted_prediction_tokens': 0, 'audio_tokens': 0, 'reasoning_tokens': 0, 'rejected_prediction_tokens': 0}, 'prompt_tokens_details': {'audio_tokens': 0, 'cached_tokens': 0}}, 'model_name': 'gpt-3.5-turbo-0125', 'system_fingerprint': None, 'id': 'chatcmpl-C9T6nDPHzkbMD7yWU7kpzWIpzm6jr', 'service_tier': 'default', 'finish_reason': 'stop', 'logprobs': None}, id='run--12decf8a-9034-4e32-95a7-1d89d85c0934-0', usage_metadata={'input_tokens': 8, 'output_tokens': 9, 'total_tokens': 17, 'input_token_details': {'audio': 0, 'cache_read': 0}, 'output_token_details': {'audio': 0, 'reasoning': 0}})"
      ]
     },
     "execution_count": 128,
     "metadata": {},
     "output_type": "execute_result"
    }
   ],
   "source": [
    "llm.invoke('hi')"
   ]
  },
  {
   "cell_type": "code",
   "execution_count": 129,
   "id": "daaa969b",
   "metadata": {},
   "outputs": [],
   "source": [
    "from langchain.agents import create_react_agent, AgentExecutor\n",
    "from langchain import hub"
   ]
  },
  {
   "cell_type": "code",
   "execution_count": 130,
   "id": "73ea49ab",
   "metadata": {},
   "outputs": [
    {
     "name": "stderr",
     "output_type": "stream",
     "text": [
      "c:\\Users\\Admin\\Desktop\\langchain\\langchain\\Lib\\site-packages\\langsmith\\client.py:288: LangSmithMissingAPIKeyWarning: API key must be provided when using hosted LangSmith API\n",
      "  warnings.warn(\n"
     ]
    }
   ],
   "source": [
    "# Step 2: Pull the ReAct prompt from LangChain Hub\n",
    "prompt = hub.pull(\"hwchase17/react\")  # pulls the standard ReAct agent prompt"
   ]
  },
  {
   "cell_type": "code",
   "execution_count": 131,
   "id": "b642d256",
   "metadata": {},
   "outputs": [],
   "source": [
    "# Step 3: Create the ReAct agent manually with the pulled prompt\n",
    "agent = create_react_agent(\n",
    "    llm = llm,\n",
    "    tools = [search_tool, get_weather_data],\n",
    "    prompt = prompt\n",
    ")"
   ]
  },
  {
   "cell_type": "code",
   "execution_count": 132,
   "id": "4d97e845",
   "metadata": {},
   "outputs": [],
   "source": [
    "# Step 4: Wrap it with AgentExecutor\n",
    "agent_executor = AgentExecutor(\n",
    "    agent=agent,\n",
    "    tools=[search_tool, get_weather_data],\n",
    "    verbose=True\n",
    ")"
   ]
  },
  {
   "cell_type": "code",
   "execution_count": 144,
   "id": "1bcc6830",
   "metadata": {},
   "outputs": [
    {
     "name": "stdout",
     "output_type": "stream",
     "text": [
      "\n",
      "\n",
      "\u001b[1m> Entering new AgentExecutor chain...\u001b[0m\n",
      "\u001b[32;1m\u001b[1;3mFirst, I need to find the capital of Egypt. Then I can use the weather data tool to retrieve the current weather condition for that city.\n",
      "Action: duckduckgo_search\n",
      "Action Input: \"capital of Egypt\"\u001b[0m"
     ]
    },
    {
     "name": "stderr",
     "output_type": "stream",
     "text": [
      "c:\\Users\\Admin\\Desktop\\langchain\\langchain\\Lib\\site-packages\\langchain_community\\utilities\\duckduckgo_search.py:63: RuntimeWarning: This package (`duckduckgo_search`) has been renamed to `ddgs`! Use `pip install ddgs` instead.\n",
      "  with DDGS() as ddgs:\n"
     ]
    },
    {
     "name": "stdout",
     "output_type": "stream",
     "text": [
      "\u001b[36;1m\u001b[1;3mCheck out the latest music news, celebrity gossip and catch up with your favourite presenters - including Capital Breakfast with Jordan North, Chris Stark and Siân Welby. Aug 20, 2025 · What are Taylor Swift's 'loml' lyrics about? The Summer I Turned Pretty season 3, episode 7 ends with Taylor Swift's 'loml' and it teases what's next for Belly and Conrad. Aug 20, 2025 · Who is Taylor Swift's 'Robin' about? Here's what the song's inclusion in The Summer I Turned Pretty means for Belly Aug 19, 2025 · Who are Conan Gray's Actor lyrics about? Here's what he's said about the meaning behind the song and people guessing who his songs are about. 6 days ago · Jessie J has opened up about her emotional Capital's Summertime Ball performance and how it helped her through breast cancer surgery.\u001b[0m\u001b[32;1m\u001b[1;3mThat search did not give relevant results, I need to try a more specific query.\n",
      "Action: duckduckgo_search\n",
      "Action Input: \"capital of Egypt country\"\u001b[0m"
     ]
    },
    {
     "name": "stderr",
     "output_type": "stream",
     "text": [
      "c:\\Users\\Admin\\Desktop\\langchain\\langchain\\Lib\\site-packages\\langchain_community\\utilities\\duckduckgo_search.py:63: RuntimeWarning: This package (`duckduckgo_search`) has been renamed to `ddgs`! Use `pip install ddgs` instead.\n",
      "  with DDGS() as ddgs:\n"
     ]
    },
    {
     "name": "stdout",
     "output_type": "stream",
     "text": [
      "\u001b[36;1m\u001b[1;3m2 days ago · Cairo, city, capital of Egypt, and one of the largest cities in Africa. Founded by the Fatimids in the 10th century, the city lies on the banks of the Nile near ancient Memphis. In …Cairo - Cultural, Historical, Educational: Cairo has long been a cultural capital of …Transportation Egypt’s extensive transportation network, laid out by the …Cairo - Ancient, Urbanization, Nile: Muḥammad ʿAlī, sent to Egypt in … Dec 7, 2024 · Cairo is the largest city in Egypt and the country's capital, blending old-world Egypt intricately with the modern, new world. Cairo is often called the “cradle of civilization,” with … Jun 10, 2025 · As its name suggests, it will be the administrative capital of Egypt, containing the country's presidential palace, parliament and the majority of central government departments. Aug 7, 2025 · Cairo is the capital of Egypt, and it is also the largest city in the country. It lies on the shores of the famous Nile River, which has supported life in Egypt for thousands of years … Jun 14, 2025 · As the capital, Cairo serves as the center of Egyptian government, commerce, and culture. It houses important institutions, historical sites, and a large population.\u001b[0m\u001b[32;1m\u001b[1;3mI now know that the capital of Egypt is Cairo. Now I need to use the weather data tool to get the current weather condition.\n",
      "Action: get_weather_data\n",
      "Action Input: \"Cairo\"\u001b[0m\u001b[33;1m\u001b[1;3m{'request': {'type': 'City', 'query': 'Cairo, Egypt', 'language': 'en', 'unit': 'm'}, 'location': {'name': 'Cairo', 'country': 'Egypt', 'region': 'Al Qahirah', 'lat': '30.050', 'lon': '31.250', 'timezone_id': 'Africa/Cairo', 'localtime': '2025-08-28 12:25', 'localtime_epoch': 1756383900, 'utc_offset': '3.0'}, 'current': {'observation_time': '09:25 AM', 'temperature': 30, 'weather_code': 116, 'weather_icons': ['https://cdn.worldweatheronline.com/images/wsymbols01_png_64/wsymbol_0002_sunny_intervals.png'], 'weather_descriptions': ['Partly cloudy'], 'astro': {'sunrise': '05:30 AM', 'sunset': '06:22 PM', 'moonrise': '10:06 AM', 'moonset': '09:01 PM', 'moon_phase': 'Waxing Crescent', 'moon_illumination': 21}, 'air_quality': {'co': '386.65', 'no2': '49.025', 'o3': '84', 'so2': '160.025', 'pm2_5': '32.19', 'pm10': '54.76', 'us-epa-index': '2', 'gb-defra-index': '2'}, 'wind_speed': 7, 'wind_degree': 316, 'wind_dir': 'NW', 'pressure': 1011, 'precip': 0, 'humidity': 40, 'cloudcover': 75, 'feelslike': 30, 'uv_index': 9, 'visibility': 10, 'is_day': 'yes'}}\u001b[0m\u001b[32;1m\u001b[1;3mI now know that the capital of Egypt is Cairo, and the current weather condition in Cairo is partly cloudy with a temperature of 30°C.\n",
      "Final Answer: The capital of Egypt is Cairo, and the current weather condition in Cairo is partly cloudy with a temperature of 30°C.\u001b[0m\n",
      "\n",
      "\u001b[1m> Finished chain.\u001b[0m\n",
      "{'input': \"Find the capital of Egypt, then find it's current weather condition\", 'output': 'The capital of Egypt is Cairo, and the current weather condition in Cairo is partly cloudy with a temperature of 30°C.'}\n"
     ]
    }
   ],
   "source": [
    "# Step 5: Invoke\n",
    "response = agent_executor.invoke({\"input\": \"Find the capital of Egypt, then find it's current weather condition\"})\n",
    "print(response)"
   ]
  },
  {
   "cell_type": "code",
   "execution_count": 145,
   "id": "31725c14",
   "metadata": {},
   "outputs": [
    {
     "data": {
      "text/plain": [
       "'The capital of Egypt is Cairo, and the current weather condition in Cairo is partly cloudy with a temperature of 30°C.'"
      ]
     },
     "execution_count": 145,
     "metadata": {},
     "output_type": "execute_result"
    }
   ],
   "source": [
    "response['output']"
   ]
  },
  {
   "cell_type": "code",
   "execution_count": null,
   "id": "e758d6fd",
   "metadata": {},
   "outputs": [],
   "source": []
  },
  {
   "cell_type": "code",
   "execution_count": null,
   "id": "57b6b17b",
   "metadata": {},
   "outputs": [],
   "source": []
  },
  {
   "cell_type": "code",
   "execution_count": null,
   "id": "6c38b1e1",
   "metadata": {},
   "outputs": [],
   "source": []
  },
  {
   "cell_type": "code",
   "execution_count": null,
   "id": "d3ba040a",
   "metadata": {},
   "outputs": [],
   "source": []
  },
  {
   "cell_type": "code",
   "execution_count": null,
   "id": "8e85c14b",
   "metadata": {},
   "outputs": [],
   "source": []
  },
  {
   "cell_type": "code",
   "execution_count": null,
   "id": "fd5b59c2",
   "metadata": {},
   "outputs": [],
   "source": []
  },
  {
   "cell_type": "code",
   "execution_count": null,
   "id": "eb6d85ba",
   "metadata": {},
   "outputs": [],
   "source": []
  },
  {
   "cell_type": "code",
   "execution_count": null,
   "id": "57140aaa",
   "metadata": {},
   "outputs": [],
   "source": []
  },
  {
   "cell_type": "code",
   "execution_count": null,
   "id": "f3a1c5b1",
   "metadata": {},
   "outputs": [],
   "source": []
  },
  {
   "cell_type": "code",
   "execution_count": null,
   "id": "9e0ba6b9",
   "metadata": {},
   "outputs": [],
   "source": []
  },
  {
   "cell_type": "code",
   "execution_count": null,
   "id": "e57555d6",
   "metadata": {},
   "outputs": [],
   "source": []
  },
  {
   "cell_type": "code",
   "execution_count": null,
   "id": "8f55e4d7",
   "metadata": {},
   "outputs": [],
   "source": []
  },
  {
   "cell_type": "code",
   "execution_count": null,
   "id": "47f83017",
   "metadata": {},
   "outputs": [],
   "source": []
  },
  {
   "cell_type": "code",
   "execution_count": null,
   "id": "f1ff2205",
   "metadata": {},
   "outputs": [],
   "source": []
  },
  {
   "cell_type": "code",
   "execution_count": null,
   "id": "147f0dc3",
   "metadata": {},
   "outputs": [],
   "source": []
  },
  {
   "cell_type": "code",
   "execution_count": null,
   "id": "817951bb",
   "metadata": {},
   "outputs": [],
   "source": []
  },
  {
   "cell_type": "code",
   "execution_count": null,
   "id": "7cd995e5",
   "metadata": {},
   "outputs": [],
   "source": []
  },
  {
   "cell_type": "code",
   "execution_count": null,
   "id": "8c39b8a6",
   "metadata": {},
   "outputs": [],
   "source": []
  },
  {
   "cell_type": "code",
   "execution_count": null,
   "id": "d5ec8c12",
   "metadata": {},
   "outputs": [],
   "source": []
  },
  {
   "cell_type": "code",
   "execution_count": null,
   "id": "7e8e997f",
   "metadata": {},
   "outputs": [],
   "source": []
  },
  {
   "cell_type": "code",
   "execution_count": null,
   "id": "a0f9eb24",
   "metadata": {},
   "outputs": [],
   "source": []
  },
  {
   "cell_type": "code",
   "execution_count": null,
   "id": "52263080",
   "metadata": {},
   "outputs": [],
   "source": []
  },
  {
   "cell_type": "code",
   "execution_count": null,
   "id": "e78a74df",
   "metadata": {},
   "outputs": [],
   "source": []
  },
  {
   "cell_type": "code",
   "execution_count": null,
   "id": "65b0f484",
   "metadata": {},
   "outputs": [],
   "source": []
  },
  {
   "cell_type": "code",
   "execution_count": null,
   "id": "cc01b35f",
   "metadata": {},
   "outputs": [],
   "source": []
  },
  {
   "cell_type": "code",
   "execution_count": null,
   "id": "92e52f18",
   "metadata": {},
   "outputs": [],
   "source": []
  },
  {
   "cell_type": "code",
   "execution_count": null,
   "id": "2b9ca583",
   "metadata": {},
   "outputs": [],
   "source": []
  },
  {
   "cell_type": "code",
   "execution_count": null,
   "id": "b1cd8996",
   "metadata": {},
   "outputs": [],
   "source": []
  },
  {
   "cell_type": "code",
   "execution_count": null,
   "id": "7b6f660f",
   "metadata": {},
   "outputs": [],
   "source": []
  },
  {
   "cell_type": "code",
   "execution_count": null,
   "id": "719cd0d1",
   "metadata": {},
   "outputs": [],
   "source": []
  },
  {
   "cell_type": "code",
   "execution_count": null,
   "id": "10806dde",
   "metadata": {},
   "outputs": [],
   "source": []
  },
  {
   "cell_type": "code",
   "execution_count": null,
   "id": "53984f84",
   "metadata": {},
   "outputs": [],
   "source": []
  },
  {
   "cell_type": "code",
   "execution_count": null,
   "id": "c44f9ba8",
   "metadata": {},
   "outputs": [],
   "source": []
  }
 ],
 "metadata": {
  "kernelspec": {
   "display_name": "langchain (3.13.7)",
   "language": "python",
   "name": "python3"
  },
  "language_info": {
   "codemirror_mode": {
    "name": "ipython",
    "version": 3
   },
   "file_extension": ".py",
   "mimetype": "text/x-python",
   "name": "python",
   "nbconvert_exporter": "python",
   "pygments_lexer": "ipython3",
   "version": "3.13.7"
  }
 },
 "nbformat": 4,
 "nbformat_minor": 5
}
