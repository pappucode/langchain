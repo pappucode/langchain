{
 "cells": [
  {
   "cell_type": "code",
   "execution_count": 1,
   "id": "17595150",
   "metadata": {},
   "outputs": [],
   "source": [
    "from langchain_openai import ChatOpenAI\n",
    "from langchain_core.tools import tool\n",
    "import requests\n",
    "from dotenv import load_dotenv"
   ]
  },
  {
   "cell_type": "code",
   "execution_count": 9,
   "id": "83451ab1",
   "metadata": {},
   "outputs": [
    {
     "name": "stdout",
     "output_type": "stream",
     "text": [
      "Note: you may need to restart the kernel to use updated packages.\n"
     ]
    }
   ],
   "source": [
    "%pip install -q langchain-openai langchain-community langchain-core requests duckduckgo-search ddgs"
   ]
  },
  {
   "cell_type": "code",
   "execution_count": 3,
   "id": "2df8e3c1",
   "metadata": {},
   "outputs": [
    {
     "data": {
      "text/plain": [
       "True"
      ]
     },
     "execution_count": 3,
     "metadata": {},
     "output_type": "execute_result"
    }
   ],
   "source": [
    "load_dotenv()"
   ]
  },
  {
   "cell_type": "code",
   "execution_count": null,
   "id": "405dca0e",
   "metadata": {},
   "outputs": [],
   "source": [
    "from ddgs import DDGS\n",
    "\n",
    "search_tool = DDGS()\n",
    "\n",
    "results = search_tool.invoke(\"What is the top new today in bd?\")"
   ]
  },
  {
   "cell_type": "code",
   "execution_count": 18,
   "id": "acf23176",
   "metadata": {},
   "outputs": [],
   "source": [
    "# from ddgs import DDGS\n",
    "\n",
    "# with DDGS() as ddgs:\n",
    "#     results = ddgs.text(\"What is the top news today in BD?\", region=\"bd-en\")\n",
    "#     for result in results:\n",
    "#         print(result[\"title\"], \"-\", result[\"href\"])"
   ]
  },
  {
   "cell_type": "code",
   "execution_count": 20,
   "id": "edb65cf9",
   "metadata": {},
   "outputs": [],
   "source": [
    "from langchain.tools import Tool\n",
    "from ddgs import DDGS\n",
    "\n",
    "def duckduckgo_search(query: str) -> str:\n",
    "    with DDGS() as ddgs:\n",
    "        results = ddgs.text(query, region=\"bd-en\")\n",
    "        return \"\\n\".join([res[\"title\"] for res in results])\n",
    "\n",
    "search_tool = Tool(\n",
    "    name=\"duckduckgo_search\",\n",
    "    func=duckduckgo_search,\n",
    "    description=\"Useful for answering questions about recent events or web searches\"\n",
    ")\n"
   ]
  },
  {
   "cell_type": "code",
   "execution_count": 22,
   "id": "de2a2481",
   "metadata": {},
   "outputs": [
    {
     "name": "stdout",
     "output_type": "stream",
     "text": [
      "খবর, সর্বশেষ খবর, ব্রেকিং নিউজ | News, latest news, breaking news - BBC ...\n",
      "বাংলাদেশের খবর | Bangladesh News Update | Prothom Alo\n",
      "আজকের সর্বশেষ খবর, ব্রেকিং নিউজ | Latest news, Breaking news\n",
      "Breakingnews ব্রেকিং নিউজ| যখনই ঘটনা তখনই সংবাদ\n",
      "Latest BD News | সর্বশেষ খবর, ব্রেকিং নিউজ | Bangladesh Breaking News\n",
      "The Daily Star - Bangladesh News, Political News, Bangladesh …\n",
      "Dhaka Tribune - Current & Breaking News Bangladesh & World\n",
      "Bangladesh Sangbad Sangstha (BSS)\n",
      "আজকের ও সর্বশেষ খবর | Latest Bangladesh News | Desh …\n",
      "আজকের খবর | আজকের ব্রেকিং নিউজ | সময় নিউজ | Somoy News\n"
     ]
    }
   ],
   "source": [
    "print(search_tool.invoke(\"Top news bd today\"))"
   ]
  },
  {
   "cell_type": "code",
   "execution_count": 16,
   "id": "79329f69",
   "metadata": {},
   "outputs": [],
   "source": [
    "# import warnings\n",
    "# warnings.filterwarnings(\"ignore\", category=DeprecationWarning)\n",
    "\n",
    "# import feedparser\n",
    "\n",
    "# rss_url = \"https://news.google.com/rss/search?q=Bangladesh&hl=en-BD&gl=BD&ceid=BD:en\"\n",
    "# feed = feedparser.parse(rss_url)\n",
    "\n",
    "# for entry in feed.entries[:5]:\n",
    "#     print(entry.title)\n",
    "#     print(entry.link)\n",
    "#     print(\"---\")\n",
    "\n",
    "\n",
    "\n"
   ]
  },
  {
   "cell_type": "code",
   "execution_count": 19,
   "id": "a8b1c380",
   "metadata": {},
   "outputs": [
    {
     "name": "stdout",
     "output_type": "stream",
     "text": [
      "Jun 25, 2025 · Get latest Bangladesh news, entertainment news, celebrity news, showbiz news, sports news, business news, tech news and lifestyle news from the most trusted Bangladesh …বাংলাদেশ এবং বিশ্বের সর্বশেষ …Remittance in Bangladesh crossed $30 …Read the latest opinions, commentary, op …Clash in Habiganj leaves one dead, section …Gaza mediators are engaging with Israel …Bangladesh last played a Test in Colombo …Watch / ‘I’ve always said I don’t want the …Dengue cases see sharp rise in early July. … Jun 6, 2025 · From politics to entertainment, get today’s Bangla news from trusted online news websites like Jagonews24, BDNews24, Bangla News 24, Dhaka Post, RisingBD, and more—all in … 5 days ago · Jagonews24.com is the fastest-growing online news portal in Bangladesh. Stay with JagoNews24 to get up to date with the today's latest news - current affairs, politics, sports, … Aug 4, 2024 · At least 90 people were killed in Bangladesh on Sunday, amid worsening clashes between police and anti-government protesters. Aug 5, 2024 · We are pausing our coverage of events in Bangladesh for today, with the country waiting to see what will happen next. With parliament dissolved, the way is clear for an interim …\n"
     ]
    }
   ],
   "source": [
    "print(results)"
   ]
  },
  {
   "cell_type": "code",
   "execution_count": null,
   "id": "6c38b1e1",
   "metadata": {},
   "outputs": [],
   "source": [
    "# Create tools\n",
    "@tool\n",
    "def get_weather_data(city: str) -> str:\n",
    "    \"\"\" \n",
    "    This function fetches the current weather data for a given city\n",
    "    \"\"\"\n",
    "\n",
    "    url = f''\n",
    "\n",
    "    response = requests.get(url)\n",
    "    return response.json()\n",
    "\n"
   ]
  },
  {
   "cell_type": "code",
   "execution_count": null,
   "id": "d3ba040a",
   "metadata": {},
   "outputs": [],
   "source": [
    "llm = ChatOpenAI()"
   ]
  },
  {
   "cell_type": "code",
   "execution_count": null,
   "id": "e4c6e916",
   "metadata": {},
   "outputs": [],
   "source": []
  },
  {
   "cell_type": "code",
   "execution_count": null,
   "id": "01528ba7",
   "metadata": {},
   "outputs": [],
   "source": []
  },
  {
   "cell_type": "code",
   "execution_count": null,
   "id": "8e85c14b",
   "metadata": {},
   "outputs": [],
   "source": []
  },
  {
   "cell_type": "code",
   "execution_count": null,
   "id": "fd5b59c2",
   "metadata": {},
   "outputs": [],
   "source": []
  },
  {
   "cell_type": "code",
   "execution_count": null,
   "id": "eb6d85ba",
   "metadata": {},
   "outputs": [],
   "source": []
  },
  {
   "cell_type": "code",
   "execution_count": null,
   "id": "57140aaa",
   "metadata": {},
   "outputs": [],
   "source": []
  },
  {
   "cell_type": "code",
   "execution_count": null,
   "id": "f3a1c5b1",
   "metadata": {},
   "outputs": [],
   "source": []
  },
  {
   "cell_type": "code",
   "execution_count": null,
   "id": "9e0ba6b9",
   "metadata": {},
   "outputs": [],
   "source": []
  },
  {
   "cell_type": "code",
   "execution_count": null,
   "id": "e57555d6",
   "metadata": {},
   "outputs": [],
   "source": []
  },
  {
   "cell_type": "code",
   "execution_count": null,
   "id": "8f55e4d7",
   "metadata": {},
   "outputs": [],
   "source": []
  },
  {
   "cell_type": "code",
   "execution_count": null,
   "id": "47f83017",
   "metadata": {},
   "outputs": [],
   "source": []
  },
  {
   "cell_type": "code",
   "execution_count": null,
   "id": "f1ff2205",
   "metadata": {},
   "outputs": [],
   "source": []
  },
  {
   "cell_type": "code",
   "execution_count": null,
   "id": "147f0dc3",
   "metadata": {},
   "outputs": [],
   "source": []
  },
  {
   "cell_type": "code",
   "execution_count": null,
   "id": "817951bb",
   "metadata": {},
   "outputs": [],
   "source": []
  },
  {
   "cell_type": "code",
   "execution_count": null,
   "id": "7cd995e5",
   "metadata": {},
   "outputs": [],
   "source": []
  },
  {
   "cell_type": "code",
   "execution_count": null,
   "id": "8c39b8a6",
   "metadata": {},
   "outputs": [],
   "source": []
  },
  {
   "cell_type": "code",
   "execution_count": null,
   "id": "d5ec8c12",
   "metadata": {},
   "outputs": [],
   "source": []
  },
  {
   "cell_type": "code",
   "execution_count": null,
   "id": "7e8e997f",
   "metadata": {},
   "outputs": [],
   "source": []
  },
  {
   "cell_type": "code",
   "execution_count": null,
   "id": "a0f9eb24",
   "metadata": {},
   "outputs": [],
   "source": []
  },
  {
   "cell_type": "code",
   "execution_count": null,
   "id": "52263080",
   "metadata": {},
   "outputs": [],
   "source": []
  },
  {
   "cell_type": "code",
   "execution_count": null,
   "id": "e78a74df",
   "metadata": {},
   "outputs": [],
   "source": []
  },
  {
   "cell_type": "code",
   "execution_count": null,
   "id": "65b0f484",
   "metadata": {},
   "outputs": [],
   "source": []
  },
  {
   "cell_type": "code",
   "execution_count": null,
   "id": "cc01b35f",
   "metadata": {},
   "outputs": [],
   "source": []
  },
  {
   "cell_type": "code",
   "execution_count": null,
   "id": "92e52f18",
   "metadata": {},
   "outputs": [],
   "source": []
  },
  {
   "cell_type": "code",
   "execution_count": null,
   "id": "2b9ca583",
   "metadata": {},
   "outputs": [],
   "source": []
  },
  {
   "cell_type": "code",
   "execution_count": null,
   "id": "b1cd8996",
   "metadata": {},
   "outputs": [],
   "source": []
  },
  {
   "cell_type": "code",
   "execution_count": null,
   "id": "7b6f660f",
   "metadata": {},
   "outputs": [],
   "source": []
  },
  {
   "cell_type": "code",
   "execution_count": null,
   "id": "719cd0d1",
   "metadata": {},
   "outputs": [],
   "source": []
  },
  {
   "cell_type": "code",
   "execution_count": null,
   "id": "10806dde",
   "metadata": {},
   "outputs": [],
   "source": []
  },
  {
   "cell_type": "code",
   "execution_count": null,
   "id": "53984f84",
   "metadata": {},
   "outputs": [],
   "source": []
  },
  {
   "cell_type": "code",
   "execution_count": null,
   "id": "c44f9ba8",
   "metadata": {},
   "outputs": [],
   "source": []
  }
 ],
 "metadata": {
  "kernelspec": {
   "display_name": "genai",
   "language": "python",
   "name": "python3"
  },
  "language_info": {
   "codemirror_mode": {
    "name": "ipython",
    "version": 3
   },
   "file_extension": ".py",
   "mimetype": "text/x-python",
   "name": "python",
   "nbconvert_exporter": "python",
   "pygments_lexer": "ipython3",
   "version": "3.13.5"
  }
 },
 "nbformat": 4,
 "nbformat_minor": 5
}
