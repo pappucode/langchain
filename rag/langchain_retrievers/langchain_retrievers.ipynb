{
  "nbformat": 4,
  "nbformat_minor": 0,
  "metadata": {
    "colab": {
      "provenance": []
    },
    "kernelspec": {
      "name": "python3",
      "display_name": "Python 3"
    },
    "language_info": {
      "name": "python"
    }
  },
  "cells": [
    {
      "cell_type": "code",
      "execution_count": 75,
      "metadata": {
        "id": "1zuK6xyy_zPj"
      },
      "outputs": [],
      "source": [
        "import os\n",
        "os.environ[\"OPENAI_API_KEY\"] = \"API KEY HERE\""
      ]
    },
    {
      "cell_type": "code",
      "source": [
        "!pip install langchain chromadb faiss-cpu openai tiktoken langchain_openai langchain-community wikipedia"
      ],
      "metadata": {
        "colab": {
          "base_uri": "https://localhost:8080/"
        },
        "id": "iQGpEwBH_5lb",
        "outputId": "f64b467b-f57d-4bcd-f0c3-7809850cdf71"
      },
      "execution_count": 76,
      "outputs": [
        {
          "output_type": "stream",
          "name": "stdout",
          "text": [
            "Requirement already satisfied: langchain in /usr/local/lib/python3.11/dist-packages (0.3.26)\n",
            "Requirement already satisfied: chromadb in /usr/local/lib/python3.11/dist-packages (1.0.15)\n",
            "Requirement already satisfied: faiss-cpu in /usr/local/lib/python3.11/dist-packages (1.11.0)\n",
            "Requirement already satisfied: openai in /usr/local/lib/python3.11/dist-packages (1.93.0)\n",
            "Requirement already satisfied: tiktoken in /usr/local/lib/python3.11/dist-packages (0.9.0)\n",
            "Requirement already satisfied: langchain_openai in /usr/local/lib/python3.11/dist-packages (0.3.27)\n",
            "Requirement already satisfied: langchain-community in /usr/local/lib/python3.11/dist-packages (0.3.27)\n",
            "Requirement already satisfied: wikipedia in /usr/local/lib/python3.11/dist-packages (1.4.0)\n",
            "Requirement already satisfied: langchain-core<1.0.0,>=0.3.66 in /usr/local/lib/python3.11/dist-packages (from langchain) (0.3.67)\n",
            "Requirement already satisfied: langchain-text-splitters<1.0.0,>=0.3.8 in /usr/local/lib/python3.11/dist-packages (from langchain) (0.3.8)\n",
            "Requirement already satisfied: langsmith>=0.1.17 in /usr/local/lib/python3.11/dist-packages (from langchain) (0.4.4)\n",
            "Requirement already satisfied: pydantic<3.0.0,>=2.7.4 in /usr/local/lib/python3.11/dist-packages (from langchain) (2.11.7)\n",
            "Requirement already satisfied: SQLAlchemy<3,>=1.4 in /usr/local/lib/python3.11/dist-packages (from langchain) (2.0.41)\n",
            "Requirement already satisfied: requests<3,>=2 in /usr/local/lib/python3.11/dist-packages (from langchain) (2.32.3)\n",
            "Requirement already satisfied: PyYAML>=5.3 in /usr/local/lib/python3.11/dist-packages (from langchain) (6.0.2)\n",
            "Requirement already satisfied: build>=1.0.3 in /usr/local/lib/python3.11/dist-packages (from chromadb) (1.2.2.post1)\n",
            "Requirement already satisfied: pybase64>=1.4.1 in /usr/local/lib/python3.11/dist-packages (from chromadb) (1.4.1)\n",
            "Requirement already satisfied: uvicorn>=0.18.3 in /usr/local/lib/python3.11/dist-packages (from uvicorn[standard]>=0.18.3->chromadb) (0.35.0)\n",
            "Requirement already satisfied: numpy>=1.22.5 in /usr/local/lib/python3.11/dist-packages (from chromadb) (2.0.2)\n",
            "Requirement already satisfied: posthog<6.0.0,>=2.4.0 in /usr/local/lib/python3.11/dist-packages (from chromadb) (5.4.0)\n",
            "Requirement already satisfied: typing-extensions>=4.5.0 in /usr/local/lib/python3.11/dist-packages (from chromadb) (4.14.0)\n",
            "Requirement already satisfied: onnxruntime>=1.14.1 in /usr/local/lib/python3.11/dist-packages (from chromadb) (1.22.0)\n",
            "Requirement already satisfied: opentelemetry-api>=1.2.0 in /usr/local/lib/python3.11/dist-packages (from chromadb) (1.34.1)\n",
            "Requirement already satisfied: opentelemetry-exporter-otlp-proto-grpc>=1.2.0 in /usr/local/lib/python3.11/dist-packages (from chromadb) (1.34.1)\n",
            "Requirement already satisfied: opentelemetry-sdk>=1.2.0 in /usr/local/lib/python3.11/dist-packages (from chromadb) (1.34.1)\n",
            "Requirement already satisfied: tokenizers>=0.13.2 in /usr/local/lib/python3.11/dist-packages (from chromadb) (0.21.2)\n",
            "Requirement already satisfied: pypika>=0.48.9 in /usr/local/lib/python3.11/dist-packages (from chromadb) (0.48.9)\n",
            "Requirement already satisfied: tqdm>=4.65.0 in /usr/local/lib/python3.11/dist-packages (from chromadb) (4.67.1)\n",
            "Requirement already satisfied: overrides>=7.3.1 in /usr/local/lib/python3.11/dist-packages (from chromadb) (7.7.0)\n",
            "Requirement already satisfied: importlib-resources in /usr/local/lib/python3.11/dist-packages (from chromadb) (6.5.2)\n",
            "Requirement already satisfied: grpcio>=1.58.0 in /usr/local/lib/python3.11/dist-packages (from chromadb) (1.73.1)\n",
            "Requirement already satisfied: bcrypt>=4.0.1 in /usr/local/lib/python3.11/dist-packages (from chromadb) (4.3.0)\n",
            "Requirement already satisfied: typer>=0.9.0 in /usr/local/lib/python3.11/dist-packages (from chromadb) (0.16.0)\n",
            "Requirement already satisfied: kubernetes>=28.1.0 in /usr/local/lib/python3.11/dist-packages (from chromadb) (33.1.0)\n",
            "Requirement already satisfied: tenacity>=8.2.3 in /usr/local/lib/python3.11/dist-packages (from chromadb) (8.5.0)\n",
            "Requirement already satisfied: mmh3>=4.0.1 in /usr/local/lib/python3.11/dist-packages (from chromadb) (5.1.0)\n",
            "Requirement already satisfied: orjson>=3.9.12 in /usr/local/lib/python3.11/dist-packages (from chromadb) (3.10.18)\n",
            "Requirement already satisfied: httpx>=0.27.0 in /usr/local/lib/python3.11/dist-packages (from chromadb) (0.28.1)\n",
            "Requirement already satisfied: rich>=10.11.0 in /usr/local/lib/python3.11/dist-packages (from chromadb) (13.9.4)\n",
            "Requirement already satisfied: jsonschema>=4.19.0 in /usr/local/lib/python3.11/dist-packages (from chromadb) (4.24.0)\n",
            "Requirement already satisfied: packaging in /usr/local/lib/python3.11/dist-packages (from faiss-cpu) (24.2)\n",
            "Requirement already satisfied: anyio<5,>=3.5.0 in /usr/local/lib/python3.11/dist-packages (from openai) (4.9.0)\n",
            "Requirement already satisfied: distro<2,>=1.7.0 in /usr/local/lib/python3.11/dist-packages (from openai) (1.9.0)\n",
            "Requirement already satisfied: jiter<1,>=0.4.0 in /usr/local/lib/python3.11/dist-packages (from openai) (0.10.0)\n",
            "Requirement already satisfied: sniffio in /usr/local/lib/python3.11/dist-packages (from openai) (1.3.1)\n",
            "Requirement already satisfied: regex>=2022.1.18 in /usr/local/lib/python3.11/dist-packages (from tiktoken) (2024.11.6)\n",
            "Requirement already satisfied: aiohttp<4.0.0,>=3.8.3 in /usr/local/lib/python3.11/dist-packages (from langchain-community) (3.11.15)\n",
            "Requirement already satisfied: dataclasses-json<0.7,>=0.5.7 in /usr/local/lib/python3.11/dist-packages (from langchain-community) (0.6.7)\n",
            "Requirement already satisfied: pydantic-settings<3.0.0,>=2.4.0 in /usr/local/lib/python3.11/dist-packages (from langchain-community) (2.10.1)\n",
            "Requirement already satisfied: httpx-sse<1.0.0,>=0.4.0 in /usr/local/lib/python3.11/dist-packages (from langchain-community) (0.4.1)\n",
            "Requirement already satisfied: beautifulsoup4 in /usr/local/lib/python3.11/dist-packages (from wikipedia) (4.13.4)\n",
            "Requirement already satisfied: aiohappyeyeballs>=2.3.0 in /usr/local/lib/python3.11/dist-packages (from aiohttp<4.0.0,>=3.8.3->langchain-community) (2.6.1)\n",
            "Requirement already satisfied: aiosignal>=1.1.2 in /usr/local/lib/python3.11/dist-packages (from aiohttp<4.0.0,>=3.8.3->langchain-community) (1.3.2)\n",
            "Requirement already satisfied: attrs>=17.3.0 in /usr/local/lib/python3.11/dist-packages (from aiohttp<4.0.0,>=3.8.3->langchain-community) (25.3.0)\n",
            "Requirement already satisfied: frozenlist>=1.1.1 in /usr/local/lib/python3.11/dist-packages (from aiohttp<4.0.0,>=3.8.3->langchain-community) (1.7.0)\n",
            "Requirement already satisfied: multidict<7.0,>=4.5 in /usr/local/lib/python3.11/dist-packages (from aiohttp<4.0.0,>=3.8.3->langchain-community) (6.6.3)\n",
            "Requirement already satisfied: propcache>=0.2.0 in /usr/local/lib/python3.11/dist-packages (from aiohttp<4.0.0,>=3.8.3->langchain-community) (0.3.2)\n",
            "Requirement already satisfied: yarl<2.0,>=1.17.0 in /usr/local/lib/python3.11/dist-packages (from aiohttp<4.0.0,>=3.8.3->langchain-community) (1.20.1)\n",
            "Requirement already satisfied: idna>=2.8 in /usr/local/lib/python3.11/dist-packages (from anyio<5,>=3.5.0->openai) (3.10)\n",
            "Requirement already satisfied: pyproject_hooks in /usr/local/lib/python3.11/dist-packages (from build>=1.0.3->chromadb) (1.2.0)\n",
            "Requirement already satisfied: marshmallow<4.0.0,>=3.18.0 in /usr/local/lib/python3.11/dist-packages (from dataclasses-json<0.7,>=0.5.7->langchain-community) (3.26.1)\n",
            "Requirement already satisfied: typing-inspect<1,>=0.4.0 in /usr/local/lib/python3.11/dist-packages (from dataclasses-json<0.7,>=0.5.7->langchain-community) (0.9.0)\n",
            "Requirement already satisfied: certifi in /usr/local/lib/python3.11/dist-packages (from httpx>=0.27.0->chromadb) (2025.6.15)\n",
            "Requirement already satisfied: httpcore==1.* in /usr/local/lib/python3.11/dist-packages (from httpx>=0.27.0->chromadb) (1.0.9)\n",
            "Requirement already satisfied: h11>=0.16 in /usr/local/lib/python3.11/dist-packages (from httpcore==1.*->httpx>=0.27.0->chromadb) (0.16.0)\n",
            "Requirement already satisfied: jsonschema-specifications>=2023.03.6 in /usr/local/lib/python3.11/dist-packages (from jsonschema>=4.19.0->chromadb) (2025.4.1)\n",
            "Requirement already satisfied: referencing>=0.28.4 in /usr/local/lib/python3.11/dist-packages (from jsonschema>=4.19.0->chromadb) (0.36.2)\n",
            "Requirement already satisfied: rpds-py>=0.7.1 in /usr/local/lib/python3.11/dist-packages (from jsonschema>=4.19.0->chromadb) (0.26.0)\n",
            "Requirement already satisfied: six>=1.9.0 in /usr/local/lib/python3.11/dist-packages (from kubernetes>=28.1.0->chromadb) (1.17.0)\n",
            "Requirement already satisfied: python-dateutil>=2.5.3 in /usr/local/lib/python3.11/dist-packages (from kubernetes>=28.1.0->chromadb) (2.9.0.post0)\n",
            "Requirement already satisfied: google-auth>=1.0.1 in /usr/local/lib/python3.11/dist-packages (from kubernetes>=28.1.0->chromadb) (2.38.0)\n",
            "Requirement already satisfied: websocket-client!=0.40.0,!=0.41.*,!=0.42.*,>=0.32.0 in /usr/local/lib/python3.11/dist-packages (from kubernetes>=28.1.0->chromadb) (1.8.0)\n",
            "Requirement already satisfied: requests-oauthlib in /usr/local/lib/python3.11/dist-packages (from kubernetes>=28.1.0->chromadb) (2.0.0)\n",
            "Requirement already satisfied: oauthlib>=3.2.2 in /usr/local/lib/python3.11/dist-packages (from kubernetes>=28.1.0->chromadb) (3.3.1)\n",
            "Requirement already satisfied: urllib3>=1.24.2 in /usr/local/lib/python3.11/dist-packages (from kubernetes>=28.1.0->chromadb) (2.4.0)\n",
            "Requirement already satisfied: durationpy>=0.7 in /usr/local/lib/python3.11/dist-packages (from kubernetes>=28.1.0->chromadb) (0.10)\n",
            "Requirement already satisfied: jsonpatch<2.0,>=1.33 in /usr/local/lib/python3.11/dist-packages (from langchain-core<1.0.0,>=0.3.66->langchain) (1.33)\n",
            "Requirement already satisfied: requests-toolbelt<2.0.0,>=1.0.0 in /usr/local/lib/python3.11/dist-packages (from langsmith>=0.1.17->langchain) (1.0.0)\n",
            "Requirement already satisfied: zstandard<0.24.0,>=0.23.0 in /usr/local/lib/python3.11/dist-packages (from langsmith>=0.1.17->langchain) (0.23.0)\n",
            "Requirement already satisfied: coloredlogs in /usr/local/lib/python3.11/dist-packages (from onnxruntime>=1.14.1->chromadb) (15.0.1)\n",
            "Requirement already satisfied: flatbuffers in /usr/local/lib/python3.11/dist-packages (from onnxruntime>=1.14.1->chromadb) (25.2.10)\n",
            "Requirement already satisfied: protobuf in /usr/local/lib/python3.11/dist-packages (from onnxruntime>=1.14.1->chromadb) (5.29.5)\n",
            "Requirement already satisfied: sympy in /usr/local/lib/python3.11/dist-packages (from onnxruntime>=1.14.1->chromadb) (1.13.1)\n",
            "Requirement already satisfied: importlib-metadata<8.8.0,>=6.0 in /usr/local/lib/python3.11/dist-packages (from opentelemetry-api>=1.2.0->chromadb) (8.7.0)\n",
            "Requirement already satisfied: googleapis-common-protos~=1.52 in /usr/local/lib/python3.11/dist-packages (from opentelemetry-exporter-otlp-proto-grpc>=1.2.0->chromadb) (1.70.0)\n",
            "Requirement already satisfied: opentelemetry-exporter-otlp-proto-common==1.34.1 in /usr/local/lib/python3.11/dist-packages (from opentelemetry-exporter-otlp-proto-grpc>=1.2.0->chromadb) (1.34.1)\n",
            "Requirement already satisfied: opentelemetry-proto==1.34.1 in /usr/local/lib/python3.11/dist-packages (from opentelemetry-exporter-otlp-proto-grpc>=1.2.0->chromadb) (1.34.1)\n",
            "Requirement already satisfied: opentelemetry-semantic-conventions==0.55b1 in /usr/local/lib/python3.11/dist-packages (from opentelemetry-sdk>=1.2.0->chromadb) (0.55b1)\n",
            "Requirement already satisfied: backoff>=1.10.0 in /usr/local/lib/python3.11/dist-packages (from posthog<6.0.0,>=2.4.0->chromadb) (2.2.1)\n",
            "Requirement already satisfied: annotated-types>=0.6.0 in /usr/local/lib/python3.11/dist-packages (from pydantic<3.0.0,>=2.7.4->langchain) (0.7.0)\n",
            "Requirement already satisfied: pydantic-core==2.33.2 in /usr/local/lib/python3.11/dist-packages (from pydantic<3.0.0,>=2.7.4->langchain) (2.33.2)\n",
            "Requirement already satisfied: typing-inspection>=0.4.0 in /usr/local/lib/python3.11/dist-packages (from pydantic<3.0.0,>=2.7.4->langchain) (0.4.1)\n",
            "Requirement already satisfied: python-dotenv>=0.21.0 in /usr/local/lib/python3.11/dist-packages (from pydantic-settings<3.0.0,>=2.4.0->langchain-community) (1.1.1)\n",
            "Requirement already satisfied: charset-normalizer<4,>=2 in /usr/local/lib/python3.11/dist-packages (from requests<3,>=2->langchain) (3.4.2)\n",
            "Requirement already satisfied: markdown-it-py>=2.2.0 in /usr/local/lib/python3.11/dist-packages (from rich>=10.11.0->chromadb) (3.0.0)\n",
            "Requirement already satisfied: pygments<3.0.0,>=2.13.0 in /usr/local/lib/python3.11/dist-packages (from rich>=10.11.0->chromadb) (2.19.2)\n",
            "Requirement already satisfied: greenlet>=1 in /usr/local/lib/python3.11/dist-packages (from SQLAlchemy<3,>=1.4->langchain) (3.2.3)\n",
            "Requirement already satisfied: huggingface-hub<1.0,>=0.16.4 in /usr/local/lib/python3.11/dist-packages (from tokenizers>=0.13.2->chromadb) (0.33.1)\n",
            "Requirement already satisfied: click>=8.0.0 in /usr/local/lib/python3.11/dist-packages (from typer>=0.9.0->chromadb) (8.2.1)\n",
            "Requirement already satisfied: shellingham>=1.3.0 in /usr/local/lib/python3.11/dist-packages (from typer>=0.9.0->chromadb) (1.5.4)\n",
            "Requirement already satisfied: httptools>=0.6.3 in /usr/local/lib/python3.11/dist-packages (from uvicorn[standard]>=0.18.3->chromadb) (0.6.4)\n",
            "Requirement already satisfied: uvloop>=0.15.1 in /usr/local/lib/python3.11/dist-packages (from uvicorn[standard]>=0.18.3->chromadb) (0.21.0)\n",
            "Requirement already satisfied: watchfiles>=0.13 in /usr/local/lib/python3.11/dist-packages (from uvicorn[standard]>=0.18.3->chromadb) (1.1.0)\n",
            "Requirement already satisfied: websockets>=10.4 in /usr/local/lib/python3.11/dist-packages (from uvicorn[standard]>=0.18.3->chromadb) (15.0.1)\n",
            "Requirement already satisfied: soupsieve>1.2 in /usr/local/lib/python3.11/dist-packages (from beautifulsoup4->wikipedia) (2.7)\n",
            "Requirement already satisfied: cachetools<6.0,>=2.0.0 in /usr/local/lib/python3.11/dist-packages (from google-auth>=1.0.1->kubernetes>=28.1.0->chromadb) (5.5.2)\n",
            "Requirement already satisfied: pyasn1-modules>=0.2.1 in /usr/local/lib/python3.11/dist-packages (from google-auth>=1.0.1->kubernetes>=28.1.0->chromadb) (0.4.2)\n",
            "Requirement already satisfied: rsa<5,>=3.1.4 in /usr/local/lib/python3.11/dist-packages (from google-auth>=1.0.1->kubernetes>=28.1.0->chromadb) (4.9.1)\n",
            "Requirement already satisfied: filelock in /usr/local/lib/python3.11/dist-packages (from huggingface-hub<1.0,>=0.16.4->tokenizers>=0.13.2->chromadb) (3.18.0)\n",
            "Requirement already satisfied: fsspec>=2023.5.0 in /usr/local/lib/python3.11/dist-packages (from huggingface-hub<1.0,>=0.16.4->tokenizers>=0.13.2->chromadb) (2025.3.2)\n",
            "Requirement already satisfied: hf-xet<2.0.0,>=1.1.2 in /usr/local/lib/python3.11/dist-packages (from huggingface-hub<1.0,>=0.16.4->tokenizers>=0.13.2->chromadb) (1.1.5)\n",
            "Requirement already satisfied: zipp>=3.20 in /usr/local/lib/python3.11/dist-packages (from importlib-metadata<8.8.0,>=6.0->opentelemetry-api>=1.2.0->chromadb) (3.23.0)\n",
            "Requirement already satisfied: jsonpointer>=1.9 in /usr/local/lib/python3.11/dist-packages (from jsonpatch<2.0,>=1.33->langchain-core<1.0.0,>=0.3.66->langchain) (3.0.0)\n",
            "Requirement already satisfied: mdurl~=0.1 in /usr/local/lib/python3.11/dist-packages (from markdown-it-py>=2.2.0->rich>=10.11.0->chromadb) (0.1.2)\n",
            "Requirement already satisfied: mypy-extensions>=0.3.0 in /usr/local/lib/python3.11/dist-packages (from typing-inspect<1,>=0.4.0->dataclasses-json<0.7,>=0.5.7->langchain-community) (1.1.0)\n",
            "Requirement already satisfied: humanfriendly>=9.1 in /usr/local/lib/python3.11/dist-packages (from coloredlogs->onnxruntime>=1.14.1->chromadb) (10.0)\n",
            "Requirement already satisfied: mpmath<1.4,>=1.1.0 in /usr/local/lib/python3.11/dist-packages (from sympy->onnxruntime>=1.14.1->chromadb) (1.3.0)\n",
            "Requirement already satisfied: pyasn1<0.7.0,>=0.6.1 in /usr/local/lib/python3.11/dist-packages (from pyasn1-modules>=0.2.1->google-auth>=1.0.1->kubernetes>=28.1.0->chromadb) (0.6.1)\n"
          ]
        }
      ]
    },
    {
      "cell_type": "markdown",
      "source": [
        "**Wikipedia Retriever**"
      ],
      "metadata": {
        "id": "VCe9rX1ZBPWc"
      }
    },
    {
      "cell_type": "code",
      "source": [
        "from langchain_community.retrievers import WikipediaRetriever"
      ],
      "metadata": {
        "id": "NGT7RcHLAwH8"
      },
      "execution_count": 77,
      "outputs": []
    },
    {
      "cell_type": "code",
      "source": [
        "# Initialize the retriever (optional: set language and top_k)\n",
        "retriever = WikipediaRetriever(top_k_results=2, lang='en')"
      ],
      "metadata": {
        "id": "VMLnIMfABKcr"
      },
      "execution_count": 78,
      "outputs": []
    },
    {
      "cell_type": "code",
      "source": [
        "# Define you query\n",
        "query = \"The geopolitical history of india and pakistan from the perspective of a chinese\"\n",
        "\n",
        "# Get relevant Wikipedia documents\n",
        "docs = retriever.invoke(query)"
      ],
      "metadata": {
        "id": "TYZsvSthBKjK"
      },
      "execution_count": 79,
      "outputs": []
    },
    {
      "cell_type": "code",
      "source": [
        "#docs"
      ],
      "metadata": {
        "id": "gAaNZ0bd_5uF"
      },
      "execution_count": 80,
      "outputs": []
    },
    {
      "cell_type": "code",
      "source": [
        "# Print retrieved content\n",
        "for i, doc in enumerate(docs):\n",
        "  print(f\"\\n--- Result {i+1} ---\")\n",
        "  print(f\"Content:\\n{doc.page_content}---\")"
      ],
      "metadata": {
        "colab": {
          "base_uri": "https://localhost:8080/"
        },
        "id": "FA-nx0T3_5wz",
        "outputId": "7ff97aef-20f8-4660-92da-d5cc375c6037"
      },
      "execution_count": 81,
      "outputs": [
        {
          "output_type": "stream",
          "name": "stdout",
          "text": [
            "\n",
            "--- Result 1 ---\n",
            "Content:\n",
            "China and India maintained peaceful relations for thousands of years, but their relationship has varied since the Chinese Communist Party's victory in the Chinese Civil War in 1949 and the annexation of Tibet by the People's Republic of China. The two nations have sought economic cooperation with each other, while frequent border disputes and economic nationalism in both countries are major points of contention.\n",
            "Cultural and economic relations between China and India date back to ancient times. The Silk Road not only served as a major trade route between India and China, but is also credited for facilitating the spread of Buddhism from India to East Asia. During the 19th century, China was involved in a growing opium trade with the East India Company, which exported opium grown in India. During World War II, both British India and the Republic of China (ROC) played a crucial role in halting the progress of Imperial Japan. After India became independent in 1947, it established relations with the ROC. The modern Sino-Indian diplomatic relationship began in 1950, when India was among the first noncommunist countries to end formal relations with the Republic of China and recognise the PRC as the legitimate government of both Mainland China and Taiwan. China and India are two of the major regional powers in Asia, and are the two most populous countries and among the fastest growing major economies in the world.\n",
            "Growth in diplomatic and economic influence has increased the significance of their bilateral relationship. Between 2008 and 2021, China has been India's largest trading partner, and the two countries have also extended their strategic and military relations. However, conflict of interest leads to hostility. India has a large trade deficit that is favoured towards China. The two countries failed to resolve their border dispute and Indian media outlets have repeatedly reported Chinese military incursions into Indian territory. And relations between contemporary China and India have been characterised by border disputes, resulting in three military conflicts – the Sino-Indian War of 1962, the border clashes in Nathu La and Cho La in 1967, and the 1987 Sumdorong Chu standoff. Since the late 1980s, both countries have successfully rebuilt diplomatic and economic ties.\n",
            "Since 2013, border disputes have reemerged to take centre stage in the two countries' mutual relations. In early 2018, the two armies got engaged in a standoff at the Doklam plateau along the disputed Bhutan-China border. Since summer 2020, armed standoffs and skirmishes at multiple locations along the entire Sino-Indian border escalated. A serious clash occurred in the Galwan Valley, resulting in the death of 20 Indian soldiers and many Chinese soldiers. Both countries have steadily established military infrastructure along border areas, including amidst the 2020 China–India skirmishes. Additionally, India remains wary about China's strong strategic bilateral relations with Pakistan, and China's relations to separatist groups in Northeast India, while China has expressed concerns about Indian military and economic activities in the disputed South China Sea as well as hosting of anti-China activity from Tibetan exiles. Today, the South Asian region is the premier site of intensified great power competition between China and India.\n",
            "\n",
            "\n",
            "== Geopolitical overview ==\n",
            "\n",
            "The China–India border straddles the Himalayas, with Nepal and Bhutan acting as buffer states. Parts of the disputed Kashmir region claimed by India (J&K and Ladakh) are claimed and administered by either Pakistan (Azad Kashmir and Gilgit Baltistan) or by the PRC (Aksai Chin). The Government of Pakistan, on its maps, shows the Aksai Chin area as mostly within China and labels the boundary \"Frontier Undefined\", while India holds that Aksai Chin is illegally occupied by the PRC. China and India also dispute most of Arunachal Pradesh.\n",
            "Not only is China's India policy shaped by greater competition with the Unite---\n",
            "\n",
            "--- Result 2 ---\n",
            "Content:\n",
            "The Islamic Republic of Pakistan emerged as an independent country through the partition of India in August 1947 and was admitted as a United Nations member state in September 1947. It is currently the second-most populous country within the Muslim world, and is also the only Muslim-majority country openly in possession of nuclear weapons. The country shares land borders with India, Iran, Afghanistan, and China.\n",
            "The country has extensive trade relations with the European Union and with several countries globally. As of 2023, Pakistan does not recognize two other United Nations member states (Armenia and Israel) and its ties with India remain frozen since 2019.\n",
            "From a geopolitical perspective, Pakistan's location is strategically important as it is situated at the crossroads of major maritime and land transit routes between the Middle East and South Asia, while also serving as a bridge between the Arabian Sea and the energy-rich regions of Central Asia. Since the partition of India, the Kashmir conflict has defined the India–Pakistan relationship: the two countries claim each other's zones of control in Kashmir, but are separated by a ceasefire boundary known as the Line of Control. Pakistan has close bilateral ties with China and the Muslim world, including Turkey, Saudi Arabia, and the Gulf Arab countries. As a part of the First World during the Cold War, Pakistan closely cooperated with the United States to combat the global influence of the Soviet Union, though this relationship later became strained over the course of the War on Terror. Pakistan is an active member of the Commonwealth of Nations, Organization of Islamic Cooperation, and the Shanghai Cooperation Organization.\n",
            "\n",
            "\n",
            "== Foreign policy of Pakistan ==\n",
            "Pakistan's foreign policy seeks the 'promotion of Pakistan as a dynamic, progressive, moderate, and democratic Islamic country; developing friendly relations with all countries of the world, especially major powers and immediate neighbors; consolidating our commercial and economic cooperation with international community.\"\n",
            "Pakistan's foreign policy is meant to formalize and define its interactions with foreign nations and standardize interactions with organizations, corporations and individual citizens. Backed by the semi-agricultural and semi-industrialized economy, Pakistan is the 44th largest (nominal GDP, 2025) and 26th largest (purchasing) economic power and 7th largest military in the world in terms of active personnel, with a defense budget of US$10.2 billion (2024), 2.7% of its GDP (2024). The Foreign Minister of Pakistan is the official charged with state-to-state diplomacy, although the Prime minister maintains an ultimate authority over foreign policy. The state foreign policy includes defining the national interest, as well as the economic interest and strategies chosen both to safeguard that and to achieve its policy goals. Following the general election held in May 2013, Tariq Fatimi and NSA Sartaj Aziz were designated as advisers to the Prime Minister on foreign and strategic policies. After the dismissal of Nawaz Sharif's government in July 2017, Khawaja Muhammad Asif held the portfolio of foreign minister under the premiership of Shahid Khaqan Abbasi. After the victory of Imran Khan Niazi in the Pakistan General Elections 2018, Shah Mehmood Qureshi was named the Minister of Foreign Affairs. Subsequently, Bilawal Bhutto Zardari became foreign minister after the political crisis-a position previously held by his grandfather, Zulfikar Ali Bhutto, and Hina Rabbani Khar.\n",
            "\n",
            "\n",
            "=== M A Jinnah's Vision ===\n",
            "In 1947, Muhammad Ali Jinnah, founder of the state of Pakistan, clearly described the principles and objectives of Pakistan's foreign policy in a broadcast message, which is featured prominently in a quotation on the homepage of Pakistan's Ministry of Foreign Affairs website: \"The foundation of our foreign policy is friendship with all nations across the globe.\"\n",
            "On 15 August 1947, outlining the foreign policy ---\n"
          ]
        }
      ]
    },
    {
      "cell_type": "markdown",
      "source": [
        "**Vector Store Retriever**"
      ],
      "metadata": {
        "id": "rAVY9IP-KzsT"
      }
    },
    {
      "cell_type": "code",
      "source": [
        "from langchain_community.vectorstores import Chroma\n",
        "from langchain_openai import OpenAIEmbeddings\n",
        "from langchain_core.documents import Document"
      ],
      "metadata": {
        "id": "fq7Vgnk1_510"
      },
      "execution_count": 82,
      "outputs": []
    },
    {
      "cell_type": "code",
      "source": [
        "# Step 1: Your source documents\n",
        "documents = [\n",
        "    Document(page_content=\"LangChain helps developers build LLM applications easily.\"),\n",
        "    Document(page_content=\"Chroma is a vector database optimized for LLM-based search.\"),\n",
        "    Document(page_content=\"Embeddings convert text into high-dimensional vectors.\"),\n",
        "    Document(page_content=\"OpenAI provides powerful embedding models.\"),\n",
        "    ]"
      ],
      "metadata": {
        "id": "ysfTdsV0_54S"
      },
      "execution_count": 83,
      "outputs": []
    },
    {
      "cell_type": "code",
      "source": [
        "# Step 2: Initialize embedding model\n",
        "embedding_model = OpenAIEmbeddings()\n",
        "# Step 3: Create Chroma vector store in memory\n",
        "vectorstore = Chroma.from_documents(\n",
        "    documents = documents,\n",
        "    embedding=embedding_model,\n",
        "    collection_name=\"my_collection\"\n",
        ")"
      ],
      "metadata": {
        "id": "tTKiIrZH_57F"
      },
      "execution_count": 84,
      "outputs": []
    },
    {
      "cell_type": "code",
      "source": [
        "# Step 4: Convert vectorstore into a retriever\n",
        "retriever = vectorstore.as_retriever(search_kwargs={\"k\":2})"
      ],
      "metadata": {
        "id": "IbOG0ied_59x"
      },
      "execution_count": 85,
      "outputs": []
    },
    {
      "cell_type": "code",
      "source": [
        "query = \"What is Chroma used for?\"\n",
        "results = retriever.invoke(query)"
      ],
      "metadata": {
        "id": "Eq436Cm3_6AZ"
      },
      "execution_count": 86,
      "outputs": []
    },
    {
      "cell_type": "code",
      "source": [
        "for i, doc in enumerate(results):\n",
        "  print(f\"\\n--- Result {i+1} ---\")\n",
        "  print(doc.page_content)"
      ],
      "metadata": {
        "colab": {
          "base_uri": "https://localhost:8080/"
        },
        "id": "2qVBzJEt_6FR",
        "outputId": "efa9a935-e09e-43f7-ac04-01e7ee397a04"
      },
      "execution_count": 87,
      "outputs": [
        {
          "output_type": "stream",
          "name": "stdout",
          "text": [
            "\n",
            "--- Result 1 ---\n",
            "Chroma is a vector database optimized for LLM-based search.\n",
            "\n",
            "--- Result 2 ---\n",
            "Chroma is a vector database optimized for LLM-based search.\n"
          ]
        }
      ]
    },
    {
      "cell_type": "markdown",
      "source": [
        "**Maximal marginal Relevance (MMR)**"
      ],
      "metadata": {
        "id": "z3rkNaFZ44ZT"
      }
    },
    {
      "cell_type": "code",
      "source": [
        "# Sample documents\n",
        "docs = [\n",
        "    Document(page_content=\"LangChain makes it easy to work with LLMs.\"),\n",
        "    Document(page_content=\"LangChain is used to build LLM based applications.\"),\n",
        "    Document(page_content=\"Chroma is used to store and search document embeddings.\"),\n",
        "    Document(page_content=\"Embeddings are vector representations of text.\"),\n",
        "    Document(page_content=\"MMR helps you get diverse results when doing similarity search.\"),\n",
        "    Document(page_content=\"LangChain supports Chroma, FAISS, Pinecone, and more.\"),\n",
        "]"
      ],
      "metadata": {
        "id": "_4u_CLVK_6IK"
      },
      "execution_count": 88,
      "outputs": []
    },
    {
      "cell_type": "code",
      "source": [
        "from langchain_community.vectorstores import FAISS\n",
        "\n",
        "# Step 1:Initialize OpenAI embeddings\n",
        "embedding_model = OpenAIEmbeddings()\n",
        "\n",
        "# Step 2: Create the FAISS vector store from documents\n",
        "vectorstore = FAISS.from_documents(\n",
        "    documents=docs,\n",
        "    embedding=embedding_model\n",
        ")"
      ],
      "metadata": {
        "id": "I4lxCekz_6LN"
      },
      "execution_count": 89,
      "outputs": []
    },
    {
      "cell_type": "code",
      "source": [
        "from re import search\n",
        "# Enable MMR in the retriever\n",
        "retriever = vectorstore.as_retriever(\n",
        "    search_type=\"mmr\",        # <-- This enables MMR\n",
        "    search_kwargs={\n",
        "        \"k\": 3,\n",
        "        \"lambda_mult\": 0.5      # k = top results, lambda_mult = relevance-diversity balance\n",
        "    }\n",
        ")"
      ],
      "metadata": {
        "id": "1JZegJBa_6OJ"
      },
      "execution_count": 90,
      "outputs": []
    },
    {
      "cell_type": "code",
      "source": [
        "query = \"What is LangChain?\"\n",
        "results = retriever.invoke(query)"
      ],
      "metadata": {
        "id": "DbEVYV3s_6Rg"
      },
      "execution_count": 91,
      "outputs": []
    },
    {
      "cell_type": "code",
      "source": [
        "for i, doc in enumerate(results):\n",
        "  print(f\"\\n--- Result {i+1} ---\")\n",
        "  print(doc.page_content)"
      ],
      "metadata": {
        "colab": {
          "base_uri": "https://localhost:8080/"
        },
        "id": "Tt2t60JM_6UZ",
        "outputId": "407896b7-ae0f-472f-9e31-15623880ad95"
      },
      "execution_count": 92,
      "outputs": [
        {
          "output_type": "stream",
          "name": "stdout",
          "text": [
            "\n",
            "--- Result 1 ---\n",
            "LangChain is used to build LLM based applications.\n",
            "\n",
            "--- Result 2 ---\n",
            "Embeddings are vector representations of text.\n",
            "\n",
            "--- Result 3 ---\n",
            "LangChain supports Chroma, FAISS, Pinecone, and more.\n"
          ]
        }
      ]
    },
    {
      "cell_type": "markdown",
      "source": [
        "**Multiquery Retriever**"
      ],
      "metadata": {
        "id": "SBbO332VJdzV"
      }
    },
    {
      "cell_type": "code",
      "source": [
        "from langchain_community.vectorstores import FAISS\n",
        "from langchain_openai import OpenAIEmbeddings\n",
        "from langchain_core.documents import Document\n",
        "from langchain_openai import ChatOpenAI\n",
        "from langchain.retrievers.multi_query import MultiQueryRetriever"
      ],
      "metadata": {
        "id": "7cbr0-LP_6Xh"
      },
      "execution_count": 93,
      "outputs": []
    },
    {
      "cell_type": "code",
      "source": [
        "# Relevant health & wellness documents\n",
        "all_docs = [\n",
        "    Document(page_content=\"Regular walking boosts heart health and can reduce symptoms of depression.\", metadata={\"source\": \"H1\"}),\n",
        "    Document(page_content=\"Consuming leafy greens and fruits helps detox the body and improve longevity.\", metadata={\"source\": \"H2\"}),\n",
        "    Document(page_content=\"Deep sleep is crucial for cellular repair and emotional regulation.\", metadata={\"source\": \"H3\"}),\n",
        "    Document(page_content=\"Mindfulness and controlled breathing lower cortisol and improve mental clarity.\", metadata={\"source\": \"H4\"}),\n",
        "    Document(page_content=\"Drinking sufficient water throughout the day helps maintain metabolism and energy.\", metadata={\"source\": \"H5\"}),\n",
        "    Document(page_content=\"The solar energy system in modern homes helps balance electricity demand.\", metadata={\"source\": \"I1\"}),\n",
        "    Document(page_content=\"Python balances readability with power, making it a popular system design language.\", metadata={\"source\": \"I2\"}),\n",
        "    Document(page_content=\"Photosynthesis enables plants to produce energy by converting sunlight.\", metadata={\"source\": \"I3\"}),\n",
        "    Document(page_content=\"The 2022 FIFA World Cup was held in Qatar and drew global energy and excitement.\", metadata={\"source\": \"I4\"}),\n",
        "    Document(page_content=\"Black holes bend spacetime and store immense gravitational energy.\", metadata={\"source\": \"I5\"}),\n",
        "]"
      ],
      "metadata": {
        "id": "-PUCUKee_6al"
      },
      "execution_count": 94,
      "outputs": []
    },
    {
      "cell_type": "code",
      "source": [
        "# Initialize OpenAI embeddings\n",
        "embedding_model = OpenAIEmbeddings()\n",
        "\n",
        "# Create FAISS vector store\n",
        "vectorstore = FAISS.from_documents(documents=all_docs, embedding=embedding_model)"
      ],
      "metadata": {
        "id": "K25cSMuB_6dg"
      },
      "execution_count": 95,
      "outputs": []
    },
    {
      "cell_type": "code",
      "source": [
        "# Create retrievers\n",
        "similarity_retriever = vectorstore.as_retriever(search_type=\"similarity\", search_kwargs={\"k\": 5})"
      ],
      "metadata": {
        "id": "3HHb9m9A_6gU"
      },
      "execution_count": 96,
      "outputs": []
    },
    {
      "cell_type": "code",
      "source": [
        "multiquery_retriever = MultiQueryRetriever.from_llm(\n",
        "    retriever=vectorstore.as_retriever(search_kwargs={\"k\": 5}),\n",
        "    llm=ChatOpenAI(model=\"gpt-3.5-turbo\")\n",
        ")"
      ],
      "metadata": {
        "id": "TZlCbxeV_6jM"
      },
      "execution_count": 97,
      "outputs": []
    },
    {
      "cell_type": "code",
      "source": [
        "# Query\n",
        "query = \"How to improve energy levels and maintain balance?\""
      ],
      "metadata": {
        "id": "zu1eCGJr_6mC"
      },
      "execution_count": 98,
      "outputs": []
    },
    {
      "cell_type": "code",
      "source": [
        "# Retrieve results\n",
        "similarity_results = similarity_retriever.invoke(query)\n",
        "multiquery_results= multiquery_retriever.invoke(query)"
      ],
      "metadata": {
        "id": "G0IUCY23_6o8"
      },
      "execution_count": 99,
      "outputs": []
    },
    {
      "cell_type": "code",
      "source": [
        "for i, doc in enumerate(similarity_results):\n",
        "    print(f\"\\n--- Result {i+1} ---\")\n",
        "    print(doc.page_content)\n",
        "\n",
        "print(\"*\"*150)\n",
        "\n",
        "for i, doc in enumerate(multiquery_results):\n",
        "    print(f\"\\n--- Result {i+1} ---\")\n",
        "    print(doc.page_content)"
      ],
      "metadata": {
        "colab": {
          "base_uri": "https://localhost:8080/"
        },
        "id": "0CEKto8A_6r5",
        "outputId": "32e6a533-d2b8-414a-c7cf-848aff771d44"
      },
      "execution_count": 100,
      "outputs": [
        {
          "output_type": "stream",
          "name": "stdout",
          "text": [
            "\n",
            "--- Result 1 ---\n",
            "Drinking sufficient water throughout the day helps maintain metabolism and energy.\n",
            "\n",
            "--- Result 2 ---\n",
            "Mindfulness and controlled breathing lower cortisol and improve mental clarity.\n",
            "\n",
            "--- Result 3 ---\n",
            "Regular walking boosts heart health and can reduce symptoms of depression.\n",
            "\n",
            "--- Result 4 ---\n",
            "Deep sleep is crucial for cellular repair and emotional regulation.\n",
            "\n",
            "--- Result 5 ---\n",
            "The solar energy system in modern homes helps balance electricity demand.\n",
            "******************************************************************************************************************************************************\n",
            "\n",
            "--- Result 1 ---\n",
            "Drinking sufficient water throughout the day helps maintain metabolism and energy.\n",
            "\n",
            "--- Result 2 ---\n",
            "Mindfulness and controlled breathing lower cortisol and improve mental clarity.\n",
            "\n",
            "--- Result 3 ---\n",
            "Deep sleep is crucial for cellular repair and emotional regulation.\n",
            "\n",
            "--- Result 4 ---\n",
            "Regular walking boosts heart health and can reduce symptoms of depression.\n",
            "\n",
            "--- Result 5 ---\n",
            "The solar energy system in modern homes helps balance electricity demand.\n",
            "\n",
            "--- Result 6 ---\n",
            "Consuming leafy greens and fruits helps detox the body and improve longevity.\n"
          ]
        }
      ]
    },
    {
      "cell_type": "markdown",
      "source": [
        "**ContextualCompressionRetriever**"
      ],
      "metadata": {
        "id": "Eu1iPNLKSpJ0"
      }
    },
    {
      "cell_type": "code",
      "source": [
        "from langchain_community.vectorstores import FAISS\n",
        "from langchain_openai import OpenAIEmbeddings, ChatOpenAI\n",
        "from langchain.retrievers.contextual_compression import ContextualCompressionRetriever\n",
        "from langchain.retrievers.document_compressors import LLMChainExtractor\n",
        "from langchain_core.documents import Document"
      ],
      "metadata": {
        "id": "2JR5mFlD_6u_"
      },
      "execution_count": 101,
      "outputs": []
    },
    {
      "cell_type": "code",
      "source": [
        "# Recreate the document objects from the previous data\n",
        "docs = [\n",
        "    Document(page_content=(\n",
        "        \"\"\"The Grand Canyon is one of the most visited natural wonders in the world.\n",
        "        Photosynthesis is the process by which green plants convert sunlight into energy.\n",
        "        Millions of tourists travel to see it every year. The rocks date back millions of years.\"\"\"\n",
        "    ), metadata={\"source\": \"Doc1\"}),\n",
        "\n",
        "    Document(page_content=(\n",
        "        \"\"\"In medieval Europe, castles were built primarily for defense.\n",
        "        The chlorophyll in plant cells captures sunlight during photosynthesis.\n",
        "        Knights wore armor made of metal. Siege weapons were often used to breach castle walls.\"\"\"\n",
        "    ), metadata={\"source\": \"Doc2\"}),\n",
        "\n",
        "    Document(page_content=(\n",
        "        \"\"\"Basketball was invented by Dr. James Naismith in the late 19th century.\n",
        "        It was originally played with a soccer ball and peach baskets. NBA is now a global league.\"\"\"\n",
        "    ), metadata={\"source\": \"Doc3\"}),\n",
        "\n",
        "    Document(page_content=(\n",
        "        \"\"\"The history of cinema began in the late 1800s. Silent films were the earliest form.\n",
        "        Thomas Edison was among the pioneers. Photosynthesis does not occur in animal cells.\n",
        "        Modern filmmaking involves complex CGI and sound design.\"\"\"\n",
        "    ), metadata={\"source\": \"Doc4\"})\n",
        "]"
      ],
      "metadata": {
        "id": "sOe6B0wO_6xt"
      },
      "execution_count": 102,
      "outputs": []
    },
    {
      "cell_type": "code",
      "source": [
        "# Create a FAISS vector store from the documents\n",
        "embedding_model = OpenAIEmbeddings()\n",
        "vectorstore = FAISS.from_documents(docs, embedding_model)"
      ],
      "metadata": {
        "id": "1SgLCldI_60t"
      },
      "execution_count": 103,
      "outputs": []
    },
    {
      "cell_type": "code",
      "source": [
        "base_retriever = vectorstore.as_retriever(search_kwargs={\"k\": 5})"
      ],
      "metadata": {
        "id": "QwyFudE3S4be"
      },
      "execution_count": 104,
      "outputs": []
    },
    {
      "cell_type": "code",
      "source": [
        "# Set up the compressor using an LLM\n",
        "llm = ChatOpenAI(model=\"gpt-3.5-turbo\")\n",
        "compressor = LLMChainExtractor.from_llm(llm)"
      ],
      "metadata": {
        "id": "U-yeqgvHS4el"
      },
      "execution_count": 105,
      "outputs": []
    },
    {
      "cell_type": "code",
      "source": [
        "# Create the contextual compression retriever\n",
        "compression_retriever = ContextualCompressionRetriever(\n",
        "    base_retriever=base_retriever,\n",
        "    base_compressor=compressor\n",
        ")"
      ],
      "metadata": {
        "id": "mbgbqWw-S4hi"
      },
      "execution_count": 106,
      "outputs": []
    },
    {
      "cell_type": "code",
      "source": [
        "# Query the retriever\n",
        "query = \"What is photosynthesis?\"\n",
        "compressed_results = compression_retriever.invoke(query)"
      ],
      "metadata": {
        "id": "HNjj3TptS4kN"
      },
      "execution_count": 107,
      "outputs": []
    },
    {
      "cell_type": "code",
      "source": [
        "for i, doc in enumerate(compressed_results):\n",
        "    print(f\"\\n--- Result {i+1} ---\")\n",
        "    print(doc.page_content)"
      ],
      "metadata": {
        "colab": {
          "base_uri": "https://localhost:8080/"
        },
        "id": "sLPyHR4o_63i",
        "outputId": "31e353c1-33b3-43ea-efae-a5873c803257"
      },
      "execution_count": 108,
      "outputs": [
        {
          "output_type": "stream",
          "name": "stdout",
          "text": [
            "\n",
            "--- Result 1 ---\n",
            "Photosynthesis is the process by which green plants convert sunlight into energy.\n",
            "\n",
            "--- Result 2 ---\n",
            "The chlorophyll in plant cells captures sunlight during photosynthesis.\n"
          ]
        }
      ]
    },
    {
      "cell_type": "code",
      "source": [],
      "metadata": {
        "id": "BCCG0mtn_66e"
      },
      "execution_count": 100,
      "outputs": []
    },
    {
      "cell_type": "code",
      "source": [],
      "metadata": {
        "id": "lIWW2vFK_69e"
      },
      "execution_count": 100,
      "outputs": []
    }
  ]
}