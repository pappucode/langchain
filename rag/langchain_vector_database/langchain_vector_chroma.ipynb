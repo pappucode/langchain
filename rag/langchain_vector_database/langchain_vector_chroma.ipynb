{
  "cells": [
    {
      "cell_type": "code",
      "execution_count": 1,
      "metadata": {
        "id": "RsT3_BN14Tbm"
      },
      "outputs": [
        {
          "data": {
            "text/plain": [
              "True"
            ]
          },
          "execution_count": 1,
          "metadata": {},
          "output_type": "execute_result"
        }
      ],
      "source": [
        "# import os\n",
        "# os.environ[\"OPENAI_API_KEY\"] = \"API KEY WILL BE HERE\"\n",
        "\n",
        "from dotenv import load_dotenv\n",
        "\n",
        "load_dotenv()"
      ]
    },
    {
      "cell_type": "code",
      "execution_count": null,
      "metadata": {
        "id": "B5VeXYqYJCIZ"
      },
      "outputs": [
        {
          "name": "stdout",
          "output_type": "stream",
          "text": [
            "Requirement already satisfied: langchain in c:\\users\\user\\desktop\\llms\\genai\\lib\\site-packages (0.3.26)\n",
            "Requirement already satisfied: chromadb in c:\\users\\user\\desktop\\llms\\genai\\lib\\site-packages (1.0.15)\n",
            "Requirement already satisfied: openai in c:\\users\\user\\desktop\\llms\\genai\\lib\\site-packages (1.93.0)\n",
            "Requirement already satisfied: tiktoken in c:\\users\\user\\desktop\\llms\\genai\\lib\\site-packages (0.9.0)\n",
            "Requirement already satisfied: pypdf in c:\\users\\user\\desktop\\llms\\genai\\lib\\site-packages (5.7.0)\n",
            "Requirement already satisfied: langchain_openai in c:\\users\\user\\desktop\\llms\\genai\\lib\\site-packages (0.3.27)\n",
            "Requirement already satisfied: langchain-community in c:\\users\\user\\desktop\\llms\\genai\\lib\\site-packages (0.3.26)\n",
            "Requirement already satisfied: langchain-core<1.0.0,>=0.3.66 in c:\\users\\user\\desktop\\llms\\genai\\lib\\site-packages (from langchain) (0.3.71)\n",
            "Requirement already satisfied: langchain-text-splitters<1.0.0,>=0.3.8 in c:\\users\\user\\desktop\\llms\\genai\\lib\\site-packages (from langchain) (0.3.8)\n",
            "Requirement already satisfied: langsmith>=0.1.17 in c:\\users\\user\\desktop\\llms\\genai\\lib\\site-packages (from langchain) (0.4.4)\n",
            "Requirement already satisfied: pydantic<3.0.0,>=2.7.4 in c:\\users\\user\\desktop\\llms\\genai\\lib\\site-packages (from langchain) (2.11.7)\n",
            "Requirement already satisfied: SQLAlchemy<3,>=1.4 in c:\\users\\user\\desktop\\llms\\genai\\lib\\site-packages (from langchain) (2.0.41)\n",
            "Requirement already satisfied: requests<3,>=2 in c:\\users\\user\\desktop\\llms\\genai\\lib\\site-packages (from langchain) (2.32.4)\n",
            "Requirement already satisfied: PyYAML>=5.3 in c:\\users\\user\\desktop\\llms\\genai\\lib\\site-packages (from langchain) (6.0.2)\n",
            "Requirement already satisfied: tenacity!=8.4.0,<10.0.0,>=8.1.0 in c:\\users\\user\\desktop\\llms\\genai\\lib\\site-packages (from langchain-core<1.0.0,>=0.3.66->langchain) (9.1.2)\n",
            "Requirement already satisfied: jsonpatch<2.0,>=1.33 in c:\\users\\user\\desktop\\llms\\genai\\lib\\site-packages (from langchain-core<1.0.0,>=0.3.66->langchain) (1.33)\n",
            "Requirement already satisfied: typing-extensions>=4.7 in c:\\users\\user\\desktop\\llms\\genai\\lib\\site-packages (from langchain-core<1.0.0,>=0.3.66->langchain) (4.14.0)\n",
            "Requirement already satisfied: packaging>=23.2 in c:\\users\\user\\desktop\\llms\\genai\\lib\\site-packages (from langchain-core<1.0.0,>=0.3.66->langchain) (24.2)\n",
            "Requirement already satisfied: jsonpointer>=1.9 in c:\\users\\user\\desktop\\llms\\genai\\lib\\site-packages (from jsonpatch<2.0,>=1.33->langchain-core<1.0.0,>=0.3.66->langchain) (3.0.0)\n",
            "Requirement already satisfied: annotated-types>=0.6.0 in c:\\users\\user\\desktop\\llms\\genai\\lib\\site-packages (from pydantic<3.0.0,>=2.7.4->langchain) (0.7.0)\n",
            "Requirement already satisfied: pydantic-core==2.33.2 in c:\\users\\user\\desktop\\llms\\genai\\lib\\site-packages (from pydantic<3.0.0,>=2.7.4->langchain) (2.33.2)\n",
            "Requirement already satisfied: typing-inspection>=0.4.0 in c:\\users\\user\\desktop\\llms\\genai\\lib\\site-packages (from pydantic<3.0.0,>=2.7.4->langchain) (0.4.1)\n",
            "Requirement already satisfied: charset_normalizer<4,>=2 in c:\\users\\user\\desktop\\llms\\genai\\lib\\site-packages (from requests<3,>=2->langchain) (3.4.2)\n",
            "Requirement already satisfied: idna<4,>=2.5 in c:\\users\\user\\desktop\\llms\\genai\\lib\\site-packages (from requests<3,>=2->langchain) (3.10)\n",
            "Requirement already satisfied: urllib3<3,>=1.21.1 in c:\\users\\user\\desktop\\llms\\genai\\lib\\site-packages (from requests<3,>=2->langchain) (2.5.0)\n",
            "Requirement already satisfied: certifi>=2017.4.17 in c:\\users\\user\\desktop\\llms\\genai\\lib\\site-packages (from requests<3,>=2->langchain) (2025.6.15)\n",
            "Requirement already satisfied: greenlet>=1 in c:\\users\\user\\desktop\\llms\\genai\\lib\\site-packages (from SQLAlchemy<3,>=1.4->langchain) (3.2.3)\n",
            "Requirement already satisfied: build>=1.0.3 in c:\\users\\user\\desktop\\llms\\genai\\lib\\site-packages (from chromadb) (1.2.2.post1)\n",
            "Requirement already satisfied: pybase64>=1.4.1 in c:\\users\\user\\desktop\\llms\\genai\\lib\\site-packages (from chromadb) (1.4.1)\n",
            "Requirement already satisfied: uvicorn>=0.18.3 in c:\\users\\user\\desktop\\llms\\genai\\lib\\site-packages (from uvicorn[standard]>=0.18.3->chromadb) (0.35.0)\n",
            "Requirement already satisfied: numpy>=1.22.5 in c:\\users\\user\\desktop\\llms\\genai\\lib\\site-packages (from chromadb) (2.3.1)\n",
            "Requirement already satisfied: posthog<6.0.0,>=2.4.0 in c:\\users\\user\\desktop\\llms\\genai\\lib\\site-packages (from chromadb) (5.4.0)\n",
            "Requirement already satisfied: onnxruntime>=1.14.1 in c:\\users\\user\\desktop\\llms\\genai\\lib\\site-packages (from chromadb) (1.22.1)\n",
            "Requirement already satisfied: opentelemetry-api>=1.2.0 in c:\\users\\user\\desktop\\llms\\genai\\lib\\site-packages (from chromadb) (1.35.0)\n",
            "Requirement already satisfied: opentelemetry-exporter-otlp-proto-grpc>=1.2.0 in c:\\users\\user\\desktop\\llms\\genai\\lib\\site-packages (from chromadb) (1.35.0)\n",
            "Requirement already satisfied: opentelemetry-sdk>=1.2.0 in c:\\users\\user\\desktop\\llms\\genai\\lib\\site-packages (from chromadb) (1.35.0)\n",
            "Requirement already satisfied: tokenizers>=0.13.2 in c:\\users\\user\\desktop\\llms\\genai\\lib\\site-packages (from chromadb) (0.21.2)\n",
            "Requirement already satisfied: pypika>=0.48.9 in c:\\users\\user\\desktop\\llms\\genai\\lib\\site-packages (from chromadb) (0.48.9)\n",
            "Requirement already satisfied: tqdm>=4.65.0 in c:\\users\\user\\desktop\\llms\\genai\\lib\\site-packages (from chromadb) (4.67.1)\n",
            "Requirement already satisfied: overrides>=7.3.1 in c:\\users\\user\\desktop\\llms\\genai\\lib\\site-packages (from chromadb) (7.7.0)\n",
            "Requirement already satisfied: importlib-resources in c:\\users\\user\\desktop\\llms\\genai\\lib\\site-packages (from chromadb) (6.5.2)\n",
            "Requirement already satisfied: grpcio>=1.58.0 in c:\\users\\user\\desktop\\llms\\genai\\lib\\site-packages (from chromadb) (1.73.1)\n",
            "Requirement already satisfied: bcrypt>=4.0.1 in c:\\users\\user\\desktop\\llms\\genai\\lib\\site-packages (from chromadb) (4.3.0)\n",
            "Requirement already satisfied: typer>=0.9.0 in c:\\users\\user\\desktop\\llms\\genai\\lib\\site-packages (from chromadb) (0.16.0)\n",
            "Requirement already satisfied: kubernetes>=28.1.0 in c:\\users\\user\\desktop\\llms\\genai\\lib\\site-packages (from chromadb) (33.1.0)\n",
            "Requirement already satisfied: mmh3>=4.0.1 in c:\\users\\user\\desktop\\llms\\genai\\lib\\site-packages (from chromadb) (5.1.0)\n",
            "Requirement already satisfied: orjson>=3.9.12 in c:\\users\\user\\desktop\\llms\\genai\\lib\\site-packages (from chromadb) (3.10.18)\n",
            "Requirement already satisfied: httpx>=0.27.0 in c:\\users\\user\\desktop\\llms\\genai\\lib\\site-packages (from chromadb) (0.28.1)\n",
            "Requirement already satisfied: rich>=10.11.0 in c:\\users\\user\\desktop\\llms\\genai\\lib\\site-packages (from chromadb) (14.0.0)\n",
            "Requirement already satisfied: jsonschema>=4.19.0 in c:\\users\\user\\desktop\\llms\\genai\\lib\\site-packages (from chromadb) (4.24.0)\n",
            "Requirement already satisfied: six>=1.5 in c:\\users\\user\\desktop\\llms\\genai\\lib\\site-packages (from posthog<6.0.0,>=2.4.0->chromadb) (1.17.0)\n",
            "Requirement already satisfied: python-dateutil>=2.2 in c:\\users\\user\\desktop\\llms\\genai\\lib\\site-packages (from posthog<6.0.0,>=2.4.0->chromadb) (2.9.0.post0)\n",
            "Requirement already satisfied: backoff>=1.10.0 in c:\\users\\user\\desktop\\llms\\genai\\lib\\site-packages (from posthog<6.0.0,>=2.4.0->chromadb) (2.2.1)\n",
            "Requirement already satisfied: distro>=1.5.0 in c:\\users\\user\\desktop\\llms\\genai\\lib\\site-packages (from posthog<6.0.0,>=2.4.0->chromadb) (1.9.0)\n",
            "Requirement already satisfied: anyio<5,>=3.5.0 in c:\\users\\user\\desktop\\llms\\genai\\lib\\site-packages (from openai) (4.9.0)\n",
            "Requirement already satisfied: jiter<1,>=0.4.0 in c:\\users\\user\\desktop\\llms\\genai\\lib\\site-packages (from openai) (0.10.0)\n",
            "Requirement already satisfied: sniffio in c:\\users\\user\\desktop\\llms\\genai\\lib\\site-packages (from openai) (1.3.1)\n",
            "Requirement already satisfied: httpcore==1.* in c:\\users\\user\\desktop\\llms\\genai\\lib\\site-packages (from httpx>=0.27.0->chromadb) (1.0.9)\n",
            "Requirement already satisfied: h11>=0.16 in c:\\users\\user\\desktop\\llms\\genai\\lib\\site-packages (from httpcore==1.*->httpx>=0.27.0->chromadb) (0.16.0)\n",
            "Requirement already satisfied: regex>=2022.1.18 in c:\\users\\user\\desktop\\llms\\genai\\lib\\site-packages (from tiktoken) (2024.11.6)\n",
            "Requirement already satisfied: aiohttp<4.0.0,>=3.8.3 in c:\\users\\user\\desktop\\llms\\genai\\lib\\site-packages (from langchain-community) (3.12.13)\n",
            "Requirement already satisfied: dataclasses-json<0.7,>=0.5.7 in c:\\users\\user\\desktop\\llms\\genai\\lib\\site-packages (from langchain-community) (0.6.7)\n",
            "Requirement already satisfied: pydantic-settings<3.0.0,>=2.4.0 in c:\\users\\user\\desktop\\llms\\genai\\lib\\site-packages (from langchain-community) (2.10.1)\n",
            "Requirement already satisfied: httpx-sse<1.0.0,>=0.4.0 in c:\\users\\user\\desktop\\llms\\genai\\lib\\site-packages (from langchain-community) (0.4.1)\n",
            "Requirement already satisfied: aiohappyeyeballs>=2.5.0 in c:\\users\\user\\desktop\\llms\\genai\\lib\\site-packages (from aiohttp<4.0.0,>=3.8.3->langchain-community) (2.6.1)\n",
            "Requirement already satisfied: aiosignal>=1.1.2 in c:\\users\\user\\desktop\\llms\\genai\\lib\\site-packages (from aiohttp<4.0.0,>=3.8.3->langchain-community) (1.3.2)\n",
            "Requirement already satisfied: attrs>=17.3.0 in c:\\users\\user\\desktop\\llms\\genai\\lib\\site-packages (from aiohttp<4.0.0,>=3.8.3->langchain-community) (25.3.0)\n",
            "Requirement already satisfied: frozenlist>=1.1.1 in c:\\users\\user\\desktop\\llms\\genai\\lib\\site-packages (from aiohttp<4.0.0,>=3.8.3->langchain-community) (1.7.0)\n",
            "Requirement already satisfied: multidict<7.0,>=4.5 in c:\\users\\user\\desktop\\llms\\genai\\lib\\site-packages (from aiohttp<4.0.0,>=3.8.3->langchain-community) (6.6.3)\n",
            "Requirement already satisfied: propcache>=0.2.0 in c:\\users\\user\\desktop\\llms\\genai\\lib\\site-packages (from aiohttp<4.0.0,>=3.8.3->langchain-community) (0.3.2)\n",
            "Requirement already satisfied: yarl<2.0,>=1.17.0 in c:\\users\\user\\desktop\\llms\\genai\\lib\\site-packages (from aiohttp<4.0.0,>=3.8.3->langchain-community) (1.20.1)\n",
            "Requirement already satisfied: marshmallow<4.0.0,>=3.18.0 in c:\\users\\user\\desktop\\llms\\genai\\lib\\site-packages (from dataclasses-json<0.7,>=0.5.7->langchain-community) (3.26.1)\n",
            "Requirement already satisfied: typing-inspect<1,>=0.4.0 in c:\\users\\user\\desktop\\llms\\genai\\lib\\site-packages (from dataclasses-json<0.7,>=0.5.7->langchain-community) (0.9.0)\n",
            "Requirement already satisfied: python-dotenv>=0.21.0 in c:\\users\\user\\desktop\\llms\\genai\\lib\\site-packages (from pydantic-settings<3.0.0,>=2.4.0->langchain-community) (1.1.1)\n",
            "Requirement already satisfied: mypy-extensions>=0.3.0 in c:\\users\\user\\desktop\\llms\\genai\\lib\\site-packages (from typing-inspect<1,>=0.4.0->dataclasses-json<0.7,>=0.5.7->langchain-community) (1.1.0)\n",
            "Requirement already satisfied: pyproject_hooks in c:\\users\\user\\desktop\\llms\\genai\\lib\\site-packages (from build>=1.0.3->chromadb) (1.2.0)\n",
            "Requirement already satisfied: colorama in c:\\users\\user\\desktop\\llms\\genai\\lib\\site-packages (from build>=1.0.3->chromadb) (0.4.6)\n",
            "Requirement already satisfied: jsonschema-specifications>=2023.03.6 in c:\\users\\user\\desktop\\llms\\genai\\lib\\site-packages (from jsonschema>=4.19.0->chromadb) (2025.4.1)\n",
            "Requirement already satisfied: referencing>=0.28.4 in c:\\users\\user\\desktop\\llms\\genai\\lib\\site-packages (from jsonschema>=4.19.0->chromadb) (0.36.2)\n",
            "Requirement already satisfied: rpds-py>=0.7.1 in c:\\users\\user\\desktop\\llms\\genai\\lib\\site-packages (from jsonschema>=4.19.0->chromadb) (0.26.0)\n",
            "Requirement already satisfied: google-auth>=1.0.1 in c:\\users\\user\\desktop\\llms\\genai\\lib\\site-packages (from kubernetes>=28.1.0->chromadb) (2.40.3)\n",
            "Requirement already satisfied: websocket-client!=0.40.0,!=0.41.*,!=0.42.*,>=0.32.0 in c:\\users\\user\\desktop\\llms\\genai\\lib\\site-packages (from kubernetes>=28.1.0->chromadb) (1.8.0)\n",
            "Requirement already satisfied: requests-oauthlib in c:\\users\\user\\desktop\\llms\\genai\\lib\\site-packages (from kubernetes>=28.1.0->chromadb) (2.0.0)\n",
            "Requirement already satisfied: oauthlib>=3.2.2 in c:\\users\\user\\desktop\\llms\\genai\\lib\\site-packages (from kubernetes>=28.1.0->chromadb) (3.3.1)\n",
            "Requirement already satisfied: durationpy>=0.7 in c:\\users\\user\\desktop\\llms\\genai\\lib\\site-packages (from kubernetes>=28.1.0->chromadb) (0.10)\n",
            "Requirement already satisfied: cachetools<6.0,>=2.0.0 in c:\\users\\user\\desktop\\llms\\genai\\lib\\site-packages (from google-auth>=1.0.1->kubernetes>=28.1.0->chromadb) (5.5.2)\n",
            "Requirement already satisfied: pyasn1-modules>=0.2.1 in c:\\users\\user\\desktop\\llms\\genai\\lib\\site-packages (from google-auth>=1.0.1->kubernetes>=28.1.0->chromadb) (0.4.2)\n",
            "Requirement already satisfied: rsa<5,>=3.1.4 in c:\\users\\user\\desktop\\llms\\genai\\lib\\site-packages (from google-auth>=1.0.1->kubernetes>=28.1.0->chromadb) (4.9.1)\n",
            "Requirement already satisfied: pyasn1>=0.1.3 in c:\\users\\user\\desktop\\llms\\genai\\lib\\site-packages (from rsa<5,>=3.1.4->google-auth>=1.0.1->kubernetes>=28.1.0->chromadb) (0.6.1)\n",
            "Requirement already satisfied: requests-toolbelt<2.0.0,>=1.0.0 in c:\\users\\user\\desktop\\llms\\genai\\lib\\site-packages (from langsmith>=0.1.17->langchain) (1.0.0)\n",
            "Requirement already satisfied: zstandard<0.24.0,>=0.23.0 in c:\\users\\user\\desktop\\llms\\genai\\lib\\site-packages (from langsmith>=0.1.17->langchain) (0.23.0)\n",
            "Requirement already satisfied: coloredlogs in c:\\users\\user\\desktop\\llms\\genai\\lib\\site-packages (from onnxruntime>=1.14.1->chromadb) (15.0.1)\n",
            "Requirement already satisfied: flatbuffers in c:\\users\\user\\desktop\\llms\\genai\\lib\\site-packages (from onnxruntime>=1.14.1->chromadb) (25.2.10)\n",
            "Requirement already satisfied: protobuf in c:\\users\\user\\desktop\\llms\\genai\\lib\\site-packages (from onnxruntime>=1.14.1->chromadb) (5.29.5)\n",
            "Requirement already satisfied: sympy in c:\\users\\user\\desktop\\llms\\genai\\lib\\site-packages (from onnxruntime>=1.14.1->chromadb) (1.14.0)\n",
            "Requirement already satisfied: importlib-metadata<8.8.0,>=6.0 in c:\\users\\user\\desktop\\llms\\genai\\lib\\site-packages (from opentelemetry-api>=1.2.0->chromadb) (8.7.0)\n",
            "Requirement already satisfied: zipp>=3.20 in c:\\users\\user\\desktop\\llms\\genai\\lib\\site-packages (from importlib-metadata<8.8.0,>=6.0->opentelemetry-api>=1.2.0->chromadb) (3.23.0)\n",
            "Requirement already satisfied: googleapis-common-protos~=1.57 in c:\\users\\user\\desktop\\llms\\genai\\lib\\site-packages (from opentelemetry-exporter-otlp-proto-grpc>=1.2.0->chromadb) (1.70.0)\n",
            "Requirement already satisfied: opentelemetry-exporter-otlp-proto-common==1.35.0 in c:\\users\\user\\desktop\\llms\\genai\\lib\\site-packages (from opentelemetry-exporter-otlp-proto-grpc>=1.2.0->chromadb) (1.35.0)\n",
            "Requirement already satisfied: opentelemetry-proto==1.35.0 in c:\\users\\user\\desktop\\llms\\genai\\lib\\site-packages (from opentelemetry-exporter-otlp-proto-grpc>=1.2.0->chromadb) (1.35.0)\n",
            "Requirement already satisfied: opentelemetry-semantic-conventions==0.56b0 in c:\\users\\user\\desktop\\llms\\genai\\lib\\site-packages (from opentelemetry-sdk>=1.2.0->chromadb) (0.56b0)\n",
            "Requirement already satisfied: markdown-it-py>=2.2.0 in c:\\users\\user\\desktop\\llms\\genai\\lib\\site-packages (from rich>=10.11.0->chromadb) (3.0.0)\n",
            "Requirement already satisfied: pygments<3.0.0,>=2.13.0 in c:\\users\\user\\desktop\\llms\\genai\\lib\\site-packages (from rich>=10.11.0->chromadb) (2.19.2)\n",
            "Requirement already satisfied: mdurl~=0.1 in c:\\users\\user\\desktop\\llms\\genai\\lib\\site-packages (from markdown-it-py>=2.2.0->rich>=10.11.0->chromadb) (0.1.2)\n",
            "Requirement already satisfied: huggingface-hub<1.0,>=0.16.4 in c:\\users\\user\\desktop\\llms\\genai\\lib\\site-packages (from tokenizers>=0.13.2->chromadb) (0.33.1)\n",
            "Requirement already satisfied: filelock in c:\\users\\user\\desktop\\llms\\genai\\lib\\site-packages (from huggingface-hub<1.0,>=0.16.4->tokenizers>=0.13.2->chromadb) (3.18.0)\n",
            "Requirement already satisfied: fsspec>=2023.5.0 in c:\\users\\user\\desktop\\llms\\genai\\lib\\site-packages (from huggingface-hub<1.0,>=0.16.4->tokenizers>=0.13.2->chromadb) (2025.5.1)\n",
            "Requirement already satisfied: click>=8.0.0 in c:\\users\\user\\desktop\\llms\\genai\\lib\\site-packages (from typer>=0.9.0->chromadb) (8.2.1)\n",
            "Requirement already satisfied: shellingham>=1.3.0 in c:\\users\\user\\desktop\\llms\\genai\\lib\\site-packages (from typer>=0.9.0->chromadb) (1.5.4)\n",
            "Requirement already satisfied: httptools>=0.6.3 in c:\\users\\user\\desktop\\llms\\genai\\lib\\site-packages (from uvicorn[standard]>=0.18.3->chromadb) (0.6.4)\n",
            "Requirement already satisfied: watchfiles>=0.13 in c:\\users\\user\\desktop\\llms\\genai\\lib\\site-packages (from uvicorn[standard]>=0.18.3->chromadb) (1.1.0)\n",
            "Requirement already satisfied: websockets>=10.4 in c:\\users\\user\\desktop\\llms\\genai\\lib\\site-packages (from uvicorn[standard]>=0.18.3->chromadb) (15.0.1)\n",
            "Requirement already satisfied: humanfriendly>=9.1 in c:\\users\\user\\desktop\\llms\\genai\\lib\\site-packages (from coloredlogs->onnxruntime>=1.14.1->chromadb) (10.0)\n",
            "Requirement already satisfied: pyreadline3 in c:\\users\\user\\desktop\\llms\\genai\\lib\\site-packages (from humanfriendly>=9.1->coloredlogs->onnxruntime>=1.14.1->chromadb) (3.5.4)\n",
            "Requirement already satisfied: mpmath<1.4,>=1.1.0 in c:\\users\\user\\desktop\\llms\\genai\\lib\\site-packages (from sympy->onnxruntime>=1.14.1->chromadb) (1.3.0)\n",
            "Note: you may need to restart the kernel to use updated packages.\n"
          ]
        }
      ],
      "source": [
        "%pip install langchain chromadb openai tiktoken pypdf langchain_openai langchain-community"
      ]
    },
    {
      "cell_type": "code",
      "execution_count": 3,
      "metadata": {
        "colab": {
          "base_uri": "https://localhost:8080/"
        },
        "collapsed": true,
        "id": "7ctOWVb-JrAo",
        "outputId": "132ff47f-b886-4875-ffd2-c45a12a421eb"
      },
      "outputs": [
        {
          "name": "stdout",
          "output_type": "stream",
          "text": [
            "Requirement already satisfied: langchain-chroma in c:\\users\\user\\desktop\\llms\\genai\\lib\\site-packages (0.2.5)\n",
            "Requirement already satisfied: langchain-core>=0.3.70 in c:\\users\\user\\desktop\\llms\\genai\\lib\\site-packages (from langchain-chroma) (0.3.71)\n",
            "Requirement already satisfied: numpy>=2.1.0 in c:\\users\\user\\desktop\\llms\\genai\\lib\\site-packages (from langchain-chroma) (2.3.1)\n",
            "Requirement already satisfied: chromadb>=1.0.9 in c:\\users\\user\\desktop\\llms\\genai\\lib\\site-packages (from langchain-chroma) (1.0.15)\n",
            "Requirement already satisfied: build>=1.0.3 in c:\\users\\user\\desktop\\llms\\genai\\lib\\site-packages (from chromadb>=1.0.9->langchain-chroma) (1.2.2.post1)\n",
            "Requirement already satisfied: pydantic>=1.9 in c:\\users\\user\\desktop\\llms\\genai\\lib\\site-packages (from chromadb>=1.0.9->langchain-chroma) (2.11.7)\n",
            "Requirement already satisfied: pybase64>=1.4.1 in c:\\users\\user\\desktop\\llms\\genai\\lib\\site-packages (from chromadb>=1.0.9->langchain-chroma) (1.4.1)\n",
            "Requirement already satisfied: uvicorn>=0.18.3 in c:\\users\\user\\desktop\\llms\\genai\\lib\\site-packages (from uvicorn[standard]>=0.18.3->chromadb>=1.0.9->langchain-chroma) (0.35.0)\n",
            "Requirement already satisfied: posthog<6.0.0,>=2.4.0 in c:\\users\\user\\desktop\\llms\\genai\\lib\\site-packages (from chromadb>=1.0.9->langchain-chroma) (5.4.0)\n",
            "Requirement already satisfied: typing-extensions>=4.5.0 in c:\\users\\user\\desktop\\llms\\genai\\lib\\site-packages (from chromadb>=1.0.9->langchain-chroma) (4.14.0)\n",
            "Requirement already satisfied: onnxruntime>=1.14.1 in c:\\users\\user\\desktop\\llms\\genai\\lib\\site-packages (from chromadb>=1.0.9->langchain-chroma) (1.22.1)\n",
            "Requirement already satisfied: opentelemetry-api>=1.2.0 in c:\\users\\user\\desktop\\llms\\genai\\lib\\site-packages (from chromadb>=1.0.9->langchain-chroma) (1.35.0)\n",
            "Requirement already satisfied: opentelemetry-exporter-otlp-proto-grpc>=1.2.0 in c:\\users\\user\\desktop\\llms\\genai\\lib\\site-packages (from chromadb>=1.0.9->langchain-chroma) (1.35.0)\n",
            "Requirement already satisfied: opentelemetry-sdk>=1.2.0 in c:\\users\\user\\desktop\\llms\\genai\\lib\\site-packages (from chromadb>=1.0.9->langchain-chroma) (1.35.0)\n",
            "Requirement already satisfied: tokenizers>=0.13.2 in c:\\users\\user\\desktop\\llms\\genai\\lib\\site-packages (from chromadb>=1.0.9->langchain-chroma) (0.21.2)\n",
            "Requirement already satisfied: pypika>=0.48.9 in c:\\users\\user\\desktop\\llms\\genai\\lib\\site-packages (from chromadb>=1.0.9->langchain-chroma) (0.48.9)\n",
            "Requirement already satisfied: tqdm>=4.65.0 in c:\\users\\user\\desktop\\llms\\genai\\lib\\site-packages (from chromadb>=1.0.9->langchain-chroma) (4.67.1)\n",
            "Requirement already satisfied: overrides>=7.3.1 in c:\\users\\user\\desktop\\llms\\genai\\lib\\site-packages (from chromadb>=1.0.9->langchain-chroma) (7.7.0)\n",
            "Requirement already satisfied: importlib-resources in c:\\users\\user\\desktop\\llms\\genai\\lib\\site-packages (from chromadb>=1.0.9->langchain-chroma) (6.5.2)\n",
            "Requirement already satisfied: grpcio>=1.58.0 in c:\\users\\user\\desktop\\llms\\genai\\lib\\site-packages (from chromadb>=1.0.9->langchain-chroma) (1.73.1)\n",
            "Requirement already satisfied: bcrypt>=4.0.1 in c:\\users\\user\\desktop\\llms\\genai\\lib\\site-packages (from chromadb>=1.0.9->langchain-chroma) (4.3.0)\n",
            "Requirement already satisfied: typer>=0.9.0 in c:\\users\\user\\desktop\\llms\\genai\\lib\\site-packages (from chromadb>=1.0.9->langchain-chroma) (0.16.0)\n",
            "Requirement already satisfied: kubernetes>=28.1.0 in c:\\users\\user\\desktop\\llms\\genai\\lib\\site-packages (from chromadb>=1.0.9->langchain-chroma) (33.1.0)\n",
            "Requirement already satisfied: tenacity>=8.2.3 in c:\\users\\user\\desktop\\llms\\genai\\lib\\site-packages (from chromadb>=1.0.9->langchain-chroma) (9.1.2)\n",
            "Requirement already satisfied: pyyaml>=6.0.0 in c:\\users\\user\\desktop\\llms\\genai\\lib\\site-packages (from chromadb>=1.0.9->langchain-chroma) (6.0.2)\n",
            "Requirement already satisfied: mmh3>=4.0.1 in c:\\users\\user\\desktop\\llms\\genai\\lib\\site-packages (from chromadb>=1.0.9->langchain-chroma) (5.1.0)\n",
            "Requirement already satisfied: orjson>=3.9.12 in c:\\users\\user\\desktop\\llms\\genai\\lib\\site-packages (from chromadb>=1.0.9->langchain-chroma) (3.10.18)\n",
            "Requirement already satisfied: httpx>=0.27.0 in c:\\users\\user\\desktop\\llms\\genai\\lib\\site-packages (from chromadb>=1.0.9->langchain-chroma) (0.28.1)\n",
            "Requirement already satisfied: rich>=10.11.0 in c:\\users\\user\\desktop\\llms\\genai\\lib\\site-packages (from chromadb>=1.0.9->langchain-chroma) (14.0.0)\n",
            "Requirement already satisfied: jsonschema>=4.19.0 in c:\\users\\user\\desktop\\llms\\genai\\lib\\site-packages (from chromadb>=1.0.9->langchain-chroma) (4.24.0)\n",
            "Requirement already satisfied: requests<3.0,>=2.7 in c:\\users\\user\\desktop\\llms\\genai\\lib\\site-packages (from posthog<6.0.0,>=2.4.0->chromadb>=1.0.9->langchain-chroma) (2.32.4)\n",
            "Requirement already satisfied: six>=1.5 in c:\\users\\user\\desktop\\llms\\genai\\lib\\site-packages (from posthog<6.0.0,>=2.4.0->chromadb>=1.0.9->langchain-chroma) (1.17.0)\n",
            "Requirement already satisfied: python-dateutil>=2.2 in c:\\users\\user\\desktop\\llms\\genai\\lib\\site-packages (from posthog<6.0.0,>=2.4.0->chromadb>=1.0.9->langchain-chroma) (2.9.0.post0)\n",
            "Requirement already satisfied: backoff>=1.10.0 in c:\\users\\user\\desktop\\llms\\genai\\lib\\site-packages (from posthog<6.0.0,>=2.4.0->chromadb>=1.0.9->langchain-chroma) (2.2.1)\n",
            "Requirement already satisfied: distro>=1.5.0 in c:\\users\\user\\desktop\\llms\\genai\\lib\\site-packages (from posthog<6.0.0,>=2.4.0->chromadb>=1.0.9->langchain-chroma) (1.9.0)\n",
            "Requirement already satisfied: charset_normalizer<4,>=2 in c:\\users\\user\\desktop\\llms\\genai\\lib\\site-packages (from requests<3.0,>=2.7->posthog<6.0.0,>=2.4.0->chromadb>=1.0.9->langchain-chroma) (3.4.2)\n",
            "Requirement already satisfied: idna<4,>=2.5 in c:\\users\\user\\desktop\\llms\\genai\\lib\\site-packages (from requests<3.0,>=2.7->posthog<6.0.0,>=2.4.0->chromadb>=1.0.9->langchain-chroma) (3.10)\n",
            "Requirement already satisfied: urllib3<3,>=1.21.1 in c:\\users\\user\\desktop\\llms\\genai\\lib\\site-packages (from requests<3.0,>=2.7->posthog<6.0.0,>=2.4.0->chromadb>=1.0.9->langchain-chroma) (2.5.0)\n",
            "Requirement already satisfied: certifi>=2017.4.17 in c:\\users\\user\\desktop\\llms\\genai\\lib\\site-packages (from requests<3.0,>=2.7->posthog<6.0.0,>=2.4.0->chromadb>=1.0.9->langchain-chroma) (2025.6.15)\n",
            "Requirement already satisfied: packaging>=19.1 in c:\\users\\user\\desktop\\llms\\genai\\lib\\site-packages (from build>=1.0.3->chromadb>=1.0.9->langchain-chroma) (24.2)\n",
            "Requirement already satisfied: pyproject_hooks in c:\\users\\user\\desktop\\llms\\genai\\lib\\site-packages (from build>=1.0.3->chromadb>=1.0.9->langchain-chroma) (1.2.0)\n",
            "Requirement already satisfied: colorama in c:\\users\\user\\desktop\\llms\\genai\\lib\\site-packages (from build>=1.0.3->chromadb>=1.0.9->langchain-chroma) (0.4.6)\n",
            "Requirement already satisfied: anyio in c:\\users\\user\\desktop\\llms\\genai\\lib\\site-packages (from httpx>=0.27.0->chromadb>=1.0.9->langchain-chroma) (4.9.0)\n",
            "Requirement already satisfied: httpcore==1.* in c:\\users\\user\\desktop\\llms\\genai\\lib\\site-packages (from httpx>=0.27.0->chromadb>=1.0.9->langchain-chroma) (1.0.9)\n",
            "Requirement already satisfied: h11>=0.16 in c:\\users\\user\\desktop\\llms\\genai\\lib\\site-packages (from httpcore==1.*->httpx>=0.27.0->chromadb>=1.0.9->langchain-chroma) (0.16.0)\n",
            "Requirement already satisfied: attrs>=22.2.0 in c:\\users\\user\\desktop\\llms\\genai\\lib\\site-packages (from jsonschema>=4.19.0->chromadb>=1.0.9->langchain-chroma) (25.3.0)\n",
            "Requirement already satisfied: jsonschema-specifications>=2023.03.6 in c:\\users\\user\\desktop\\llms\\genai\\lib\\site-packages (from jsonschema>=4.19.0->chromadb>=1.0.9->langchain-chroma) (2025.4.1)\n",
            "Requirement already satisfied: referencing>=0.28.4 in c:\\users\\user\\desktop\\llms\\genai\\lib\\site-packages (from jsonschema>=4.19.0->chromadb>=1.0.9->langchain-chroma) (0.36.2)\n",
            "Requirement already satisfied: rpds-py>=0.7.1 in c:\\users\\user\\desktop\\llms\\genai\\lib\\site-packages (from jsonschema>=4.19.0->chromadb>=1.0.9->langchain-chroma) (0.26.0)\n",
            "Requirement already satisfied: google-auth>=1.0.1 in c:\\users\\user\\desktop\\llms\\genai\\lib\\site-packages (from kubernetes>=28.1.0->chromadb>=1.0.9->langchain-chroma) (2.40.3)\n",
            "Requirement already satisfied: websocket-client!=0.40.0,!=0.41.*,!=0.42.*,>=0.32.0 in c:\\users\\user\\desktop\\llms\\genai\\lib\\site-packages (from kubernetes>=28.1.0->chromadb>=1.0.9->langchain-chroma) (1.8.0)\n",
            "Requirement already satisfied: requests-oauthlib in c:\\users\\user\\desktop\\llms\\genai\\lib\\site-packages (from kubernetes>=28.1.0->chromadb>=1.0.9->langchain-chroma) (2.0.0)\n",
            "Requirement already satisfied: oauthlib>=3.2.2 in c:\\users\\user\\desktop\\llms\\genai\\lib\\site-packages (from kubernetes>=28.1.0->chromadb>=1.0.9->langchain-chroma) (3.3.1)\n",
            "Requirement already satisfied: durationpy>=0.7 in c:\\users\\user\\desktop\\llms\\genai\\lib\\site-packages (from kubernetes>=28.1.0->chromadb>=1.0.9->langchain-chroma) (0.10)\n",
            "Requirement already satisfied: cachetools<6.0,>=2.0.0 in c:\\users\\user\\desktop\\llms\\genai\\lib\\site-packages (from google-auth>=1.0.1->kubernetes>=28.1.0->chromadb>=1.0.9->langchain-chroma) (5.5.2)\n",
            "Requirement already satisfied: pyasn1-modules>=0.2.1 in c:\\users\\user\\desktop\\llms\\genai\\lib\\site-packages (from google-auth>=1.0.1->kubernetes>=28.1.0->chromadb>=1.0.9->langchain-chroma) (0.4.2)\n",
            "Requirement already satisfied: rsa<5,>=3.1.4 in c:\\users\\user\\desktop\\llms\\genai\\lib\\site-packages (from google-auth>=1.0.1->kubernetes>=28.1.0->chromadb>=1.0.9->langchain-chroma) (4.9.1)\n",
            "Requirement already satisfied: pyasn1>=0.1.3 in c:\\users\\user\\desktop\\llms\\genai\\lib\\site-packages (from rsa<5,>=3.1.4->google-auth>=1.0.1->kubernetes>=28.1.0->chromadb>=1.0.9->langchain-chroma) (0.6.1)\n",
            "Requirement already satisfied: langsmith>=0.3.45 in c:\\users\\user\\desktop\\llms\\genai\\lib\\site-packages (from langchain-core>=0.3.70->langchain-chroma) (0.4.4)\n",
            "Requirement already satisfied: jsonpatch<2.0,>=1.33 in c:\\users\\user\\desktop\\llms\\genai\\lib\\site-packages (from langchain-core>=0.3.70->langchain-chroma) (1.33)\n",
            "Requirement already satisfied: jsonpointer>=1.9 in c:\\users\\user\\desktop\\llms\\genai\\lib\\site-packages (from jsonpatch<2.0,>=1.33->langchain-core>=0.3.70->langchain-chroma) (3.0.0)\n",
            "Requirement already satisfied: requests-toolbelt<2.0.0,>=1.0.0 in c:\\users\\user\\desktop\\llms\\genai\\lib\\site-packages (from langsmith>=0.3.45->langchain-core>=0.3.70->langchain-chroma) (1.0.0)\n",
            "Requirement already satisfied: zstandard<0.24.0,>=0.23.0 in c:\\users\\user\\desktop\\llms\\genai\\lib\\site-packages (from langsmith>=0.3.45->langchain-core>=0.3.70->langchain-chroma) (0.23.0)\n",
            "Requirement already satisfied: annotated-types>=0.6.0 in c:\\users\\user\\desktop\\llms\\genai\\lib\\site-packages (from pydantic>=1.9->chromadb>=1.0.9->langchain-chroma) (0.7.0)\n",
            "Requirement already satisfied: pydantic-core==2.33.2 in c:\\users\\user\\desktop\\llms\\genai\\lib\\site-packages (from pydantic>=1.9->chromadb>=1.0.9->langchain-chroma) (2.33.2)\n",
            "Requirement already satisfied: typing-inspection>=0.4.0 in c:\\users\\user\\desktop\\llms\\genai\\lib\\site-packages (from pydantic>=1.9->chromadb>=1.0.9->langchain-chroma) (0.4.1)\n",
            "Requirement already satisfied: coloredlogs in c:\\users\\user\\desktop\\llms\\genai\\lib\\site-packages (from onnxruntime>=1.14.1->chromadb>=1.0.9->langchain-chroma) (15.0.1)\n",
            "Requirement already satisfied: flatbuffers in c:\\users\\user\\desktop\\llms\\genai\\lib\\site-packages (from onnxruntime>=1.14.1->chromadb>=1.0.9->langchain-chroma) (25.2.10)\n",
            "Requirement already satisfied: protobuf in c:\\users\\user\\desktop\\llms\\genai\\lib\\site-packages (from onnxruntime>=1.14.1->chromadb>=1.0.9->langchain-chroma) (5.29.5)\n",
            "Requirement already satisfied: sympy in c:\\users\\user\\desktop\\llms\\genai\\lib\\site-packages (from onnxruntime>=1.14.1->chromadb>=1.0.9->langchain-chroma) (1.14.0)\n",
            "Requirement already satisfied: importlib-metadata<8.8.0,>=6.0 in c:\\users\\user\\desktop\\llms\\genai\\lib\\site-packages (from opentelemetry-api>=1.2.0->chromadb>=1.0.9->langchain-chroma) (8.7.0)\n",
            "Requirement already satisfied: zipp>=3.20 in c:\\users\\user\\desktop\\llms\\genai\\lib\\site-packages (from importlib-metadata<8.8.0,>=6.0->opentelemetry-api>=1.2.0->chromadb>=1.0.9->langchain-chroma) (3.23.0)\n",
            "Requirement already satisfied: googleapis-common-protos~=1.57 in c:\\users\\user\\desktop\\llms\\genai\\lib\\site-packages (from opentelemetry-exporter-otlp-proto-grpc>=1.2.0->chromadb>=1.0.9->langchain-chroma) (1.70.0)\n",
            "Requirement already satisfied: opentelemetry-exporter-otlp-proto-common==1.35.0 in c:\\users\\user\\desktop\\llms\\genai\\lib\\site-packages (from opentelemetry-exporter-otlp-proto-grpc>=1.2.0->chromadb>=1.0.9->langchain-chroma) (1.35.0)\n",
            "Requirement already satisfied: opentelemetry-proto==1.35.0 in c:\\users\\user\\desktop\\llms\\genai\\lib\\site-packages (from opentelemetry-exporter-otlp-proto-grpc>=1.2.0->chromadb>=1.0.9->langchain-chroma) (1.35.0)\n",
            "Requirement already satisfied: opentelemetry-semantic-conventions==0.56b0 in c:\\users\\user\\desktop\\llms\\genai\\lib\\site-packages (from opentelemetry-sdk>=1.2.0->chromadb>=1.0.9->langchain-chroma) (0.56b0)\n",
            "Requirement already satisfied: markdown-it-py>=2.2.0 in c:\\users\\user\\desktop\\llms\\genai\\lib\\site-packages (from rich>=10.11.0->chromadb>=1.0.9->langchain-chroma) (3.0.0)\n",
            "Requirement already satisfied: pygments<3.0.0,>=2.13.0 in c:\\users\\user\\desktop\\llms\\genai\\lib\\site-packages (from rich>=10.11.0->chromadb>=1.0.9->langchain-chroma) (2.19.2)\n",
            "Requirement already satisfied: mdurl~=0.1 in c:\\users\\user\\desktop\\llms\\genai\\lib\\site-packages (from markdown-it-py>=2.2.0->rich>=10.11.0->chromadb>=1.0.9->langchain-chroma) (0.1.2)\n",
            "Requirement already satisfied: huggingface-hub<1.0,>=0.16.4 in c:\\users\\user\\desktop\\llms\\genai\\lib\\site-packages (from tokenizers>=0.13.2->chromadb>=1.0.9->langchain-chroma) (0.33.1)\n",
            "Requirement already satisfied: filelock in c:\\users\\user\\desktop\\llms\\genai\\lib\\site-packages (from huggingface-hub<1.0,>=0.16.4->tokenizers>=0.13.2->chromadb>=1.0.9->langchain-chroma) (3.18.0)\n",
            "Requirement already satisfied: fsspec>=2023.5.0 in c:\\users\\user\\desktop\\llms\\genai\\lib\\site-packages (from huggingface-hub<1.0,>=0.16.4->tokenizers>=0.13.2->chromadb>=1.0.9->langchain-chroma) (2025.5.1)\n",
            "Requirement already satisfied: click>=8.0.0 in c:\\users\\user\\desktop\\llms\\genai\\lib\\site-packages (from typer>=0.9.0->chromadb>=1.0.9->langchain-chroma) (8.2.1)\n",
            "Requirement already satisfied: shellingham>=1.3.0 in c:\\users\\user\\desktop\\llms\\genai\\lib\\site-packages (from typer>=0.9.0->chromadb>=1.0.9->langchain-chroma) (1.5.4)\n",
            "Requirement already satisfied: httptools>=0.6.3 in c:\\users\\user\\desktop\\llms\\genai\\lib\\site-packages (from uvicorn[standard]>=0.18.3->chromadb>=1.0.9->langchain-chroma) (0.6.4)\n",
            "Requirement already satisfied: python-dotenv>=0.13 in c:\\users\\user\\desktop\\llms\\genai\\lib\\site-packages (from uvicorn[standard]>=0.18.3->chromadb>=1.0.9->langchain-chroma) (1.1.1)\n",
            "Requirement already satisfied: watchfiles>=0.13 in c:\\users\\user\\desktop\\llms\\genai\\lib\\site-packages (from uvicorn[standard]>=0.18.3->chromadb>=1.0.9->langchain-chroma) (1.1.0)\n",
            "Requirement already satisfied: websockets>=10.4 in c:\\users\\user\\desktop\\llms\\genai\\lib\\site-packages (from uvicorn[standard]>=0.18.3->chromadb>=1.0.9->langchain-chroma) (15.0.1)\n",
            "Requirement already satisfied: sniffio>=1.1 in c:\\users\\user\\desktop\\llms\\genai\\lib\\site-packages (from anyio->httpx>=0.27.0->chromadb>=1.0.9->langchain-chroma) (1.3.1)\n",
            "Requirement already satisfied: humanfriendly>=9.1 in c:\\users\\user\\desktop\\llms\\genai\\lib\\site-packages (from coloredlogs->onnxruntime>=1.14.1->chromadb>=1.0.9->langchain-chroma) (10.0)\n",
            "Requirement already satisfied: pyreadline3 in c:\\users\\user\\desktop\\llms\\genai\\lib\\site-packages (from humanfriendly>=9.1->coloredlogs->onnxruntime>=1.14.1->chromadb>=1.0.9->langchain-chroma) (3.5.4)\n",
            "Requirement already satisfied: mpmath<1.4,>=1.1.0 in c:\\users\\user\\desktop\\llms\\genai\\lib\\site-packages (from sympy->onnxruntime>=1.14.1->chromadb>=1.0.9->langchain-chroma) (1.3.0)\n",
            "Note: you may need to restart the kernel to use updated packages.\n"
          ]
        }
      ],
      "source": [
        "%pip install langchain-chroma"
      ]
    },
    {
      "cell_type": "code",
      "execution_count": 4,
      "metadata": {
        "id": "WjvCOih-4XVo"
      },
      "outputs": [],
      "source": [
        "from langchain_openai import OpenAIEmbeddings\n",
        "from langchain_chroma import Chroma"
      ]
    },
    {
      "cell_type": "code",
      "execution_count": 7,
      "metadata": {
        "id": "BZRl_JX54XYW"
      },
      "outputs": [],
      "source": [
        "from langchain.schema import Document\n",
        "\n",
        "# Create LangChain documents for IPL players\n",
        "\n",
        "doc1 = Document(\n",
        "        page_content=\"Virat Kohli is one of the most successful and consistent batsmen in IPL history. Known for his aggressive batting style and fitness, he has led the Royal Challengers Bangalore in multiple seasons.\",\n",
        "        metadata={\"team\": \"Royal Challengers Bangalore\"}\n",
        "    )\n",
        "doc2 = Document(\n",
        "        page_content=\"Rohit Sharma is the most successful captain in IPL history, leading Mumbai Indians to five titles. He's known for his calm demeanor and ability to play big innings under pressure.\",\n",
        "        metadata={\"team\": \"Mumbai Indians\"}\n",
        "    )\n",
        "doc3 = Document(\n",
        "        page_content=\"MS Dhoni, famously known as Captain Cool, has led Chennai Super Kings to multiple IPL titles. His finishing skills, wicketkeeping, and leadership are legendary.\",\n",
        "        metadata={\"team\": \"Chennai Super Kings\"}\n",
        "    )\n",
        "doc4 = Document(\n",
        "        page_content=\"Jasprit Bumrah is considered one of the best fast bowlers in T20 cricket. Playing for Mumbai Indians, he is known for his yorkers and death-over expertise.\",\n",
        "        metadata={\"team\": \"Mumbai Indians\"}\n",
        "    )\n",
        "doc5 = Document(\n",
        "        page_content=\"Ravindra Jadeja is a dynamic all-rounder who contributes with both bat and ball. Representing Chennai Super Kings, his quick fielding and match-winning performances make him a key player.\",\n",
        "        metadata={\"team\": \"Chennai Super Kings\"}\n",
        "    )"
      ]
    },
    {
      "cell_type": "code",
      "execution_count": 8,
      "metadata": {
        "id": "9GQbSxmi4XbL"
      },
      "outputs": [],
      "source": [
        "docs = [doc1, doc2, doc3, doc4, doc5]"
      ]
    },
    {
      "cell_type": "code",
      "execution_count": 9,
      "metadata": {
        "id": "tSrHpqEW4Xih"
      },
      "outputs": [],
      "source": [
        "vector_store = Chroma(\n",
        "    embedding_function=OpenAIEmbeddings(),\n",
        "    persist_directory=\"./chroma_db\",\n",
        "    collection_name= 'sample'\n",
        ")"
      ]
    },
    {
      "cell_type": "code",
      "execution_count": 10,
      "metadata": {
        "colab": {
          "base_uri": "https://localhost:8080/"
        },
        "id": "9SC_zRFr4Xny",
        "outputId": "3b8a5063-7beb-4a1c-ae55-3201b2b40882"
      },
      "outputs": [
        {
          "data": {
            "text/plain": [
              "['51ade336-c5a1-4775-99d8-e636956d932a',\n",
              " 'bcc33cf1-9cb4-465f-a085-56a923b2c202',\n",
              " '42617bda-26be-4f74-83a1-621c1f7fab77',\n",
              " '593282c5-dae7-4e4a-99b6-9a2d1d441cb1',\n",
              " '5ab58b18-e8d5-4f5b-af2b-6fc63769bc9d']"
            ]
          },
          "execution_count": 10,
          "metadata": {},
          "output_type": "execute_result"
        }
      ],
      "source": [
        "# Add Documents\n",
        "vector_store.add_documents(docs)"
      ]
    },
    {
      "cell_type": "code",
      "execution_count": 11,
      "metadata": {
        "colab": {
          "base_uri": "https://localhost:8080/"
        },
        "id": "B6LMw_M94XqX",
        "outputId": "6963479b-cf01-4b42-e387-2acf937298a1"
      },
      "outputs": [
        {
          "data": {
            "text/plain": [
              "{'ids': ['51ade336-c5a1-4775-99d8-e636956d932a',\n",
              "  'bcc33cf1-9cb4-465f-a085-56a923b2c202',\n",
              "  '42617bda-26be-4f74-83a1-621c1f7fab77',\n",
              "  '593282c5-dae7-4e4a-99b6-9a2d1d441cb1',\n",
              "  '5ab58b18-e8d5-4f5b-af2b-6fc63769bc9d'],\n",
              " 'embeddings': array([[-2.07734108e-03, -2.16356432e-03,  2.67739072e-02, ...,\n",
              "         -1.70658119e-02, -3.68524459e-03,  1.35402400e-02],\n",
              "        [-2.70681921e-03, -5.47363961e-05,  2.82030534e-02, ...,\n",
              "         -1.50933377e-02,  5.93815418e-03, -1.16601437e-02],\n",
              "        [ 7.83727213e-04, -4.76402277e-03,  1.23708826e-02, ...,\n",
              "         -1.72387529e-02,  7.74397107e-04,  2.93532619e-03],\n",
              "        [-2.71391869e-02,  8.87096301e-03,  2.69362777e-02, ...,\n",
              "         -2.58583203e-02,  9.02314577e-03, -1.99992992e-02],\n",
              "        [-1.81433018e-02,  1.27527108e-02,  3.47932205e-02, ...,\n",
              "         -3.03654689e-02, -5.85236121e-03,  5.21374308e-03]],\n",
              "       shape=(5, 1536)),\n",
              " 'documents': ['Virat Kohli is one of the most successful and consistent batsmen in IPL history. Known for his aggressive batting style and fitness, he has led the Royal Challengers Bangalore in multiple seasons.',\n",
              "  \"Rohit Sharma is the most successful captain in IPL history, leading Mumbai Indians to five titles. He's known for his calm demeanor and ability to play big innings under pressure.\",\n",
              "  'MS Dhoni, famously known as Captain Cool, has led Chennai Super Kings to multiple IPL titles. His finishing skills, wicketkeeping, and leadership are legendary.',\n",
              "  'Jasprit Bumrah is considered one of the best fast bowlers in T20 cricket. Playing for Mumbai Indians, he is known for his yorkers and death-over expertise.',\n",
              "  'Ravindra Jadeja is a dynamic all-rounder who contributes with both bat and ball. Representing Chennai Super Kings, his quick fielding and match-winning performances make him a key player.'],\n",
              " 'uris': None,\n",
              " 'included': ['embeddings', 'documents', 'metadatas'],\n",
              " 'data': None,\n",
              " 'metadatas': [{'team': 'Royal Challengers Bangalore'},\n",
              "  {'team': 'Mumbai Indians'},\n",
              "  {'team': 'Chennai Super Kings'},\n",
              "  {'team': 'Mumbai Indians'},\n",
              "  {'team': 'Chennai Super Kings'}]}"
            ]
          },
          "execution_count": 11,
          "metadata": {},
          "output_type": "execute_result"
        }
      ],
      "source": [
        "# view documents\n",
        "vector_store.get(include=['embeddings','documents', 'metadatas'])"
      ]
    },
    {
      "cell_type": "code",
      "execution_count": 12,
      "metadata": {
        "colab": {
          "base_uri": "https://localhost:8080/"
        },
        "id": "ycGVLf6p4Xs-",
        "outputId": "0fbfdf9c-0c22-4dcc-e7aa-959737121a9a"
      },
      "outputs": [
        {
          "data": {
            "text/plain": [
              "[Document(id='593282c5-dae7-4e4a-99b6-9a2d1d441cb1', metadata={'team': 'Mumbai Indians'}, page_content='Jasprit Bumrah is considered one of the best fast bowlers in T20 cricket. Playing for Mumbai Indians, he is known for his yorkers and death-over expertise.'),\n",
              " Document(id='5ab58b18-e8d5-4f5b-af2b-6fc63769bc9d', metadata={'team': 'Chennai Super Kings'}, page_content='Ravindra Jadeja is a dynamic all-rounder who contributes with both bat and ball. Representing Chennai Super Kings, his quick fielding and match-winning performances make him a key player.')]"
            ]
          },
          "execution_count": 12,
          "metadata": {},
          "output_type": "execute_result"
        }
      ],
      "source": [
        "# search documents\n",
        "vector_store.similarity_search(\n",
        "    query = 'Who among there are a bowler?',\n",
        "    k=2\n",
        ")"
      ]
    },
    {
      "cell_type": "code",
      "execution_count": 13,
      "metadata": {
        "colab": {
          "base_uri": "https://localhost:8080/"
        },
        "id": "K0aDg7av4XyM",
        "outputId": "9cace027-2db3-418d-fcbc-cd026dde0b38"
      },
      "outputs": [
        {
          "data": {
            "text/plain": [
              "[(Document(id='593282c5-dae7-4e4a-99b6-9a2d1d441cb1', metadata={'team': 'Mumbai Indians'}, page_content='Jasprit Bumrah is considered one of the best fast bowlers in T20 cricket. Playing for Mumbai Indians, he is known for his yorkers and death-over expertise.'),\n",
              "  0.36431756615638733),\n",
              " (Document(id='5ab58b18-e8d5-4f5b-af2b-6fc63769bc9d', metadata={'team': 'Chennai Super Kings'}, page_content='Ravindra Jadeja is a dynamic all-rounder who contributes with both bat and ball. Representing Chennai Super Kings, his quick fielding and match-winning performances make him a key player.'),\n",
              "  0.4302351772785187)]"
            ]
          },
          "execution_count": 13,
          "metadata": {},
          "output_type": "execute_result"
        }
      ],
      "source": [
        "vector_store.similarity_search_with_score(\n",
        "    query = 'Who among there are a bowler?',\n",
        "    k=2\n",
        ")"
      ]
    },
    {
      "cell_type": "code",
      "execution_count": 14,
      "metadata": {
        "colab": {
          "base_uri": "https://localhost:8080/"
        },
        "id": "d94mlFGv4X1E",
        "outputId": "61a96352-c844-449c-8f61-73e57a8c8d78"
      },
      "outputs": [
        {
          "data": {
            "text/plain": [
              "[(Document(id='42617bda-26be-4f74-83a1-621c1f7fab77', metadata={'team': 'Chennai Super Kings'}, page_content='MS Dhoni, famously known as Captain Cool, has led Chennai Super Kings to multiple IPL titles. His finishing skills, wicketkeeping, and leadership are legendary.'),\n",
              "  0.6488070487976074),\n",
              " (Document(id='5ab58b18-e8d5-4f5b-af2b-6fc63769bc9d', metadata={'team': 'Chennai Super Kings'}, page_content='Ravindra Jadeja is a dynamic all-rounder who contributes with both bat and ball. Representing Chennai Super Kings, his quick fielding and match-winning performances make him a key player.'),\n",
              "  0.6565988659858704)]"
            ]
          },
          "execution_count": 14,
          "metadata": {},
          "output_type": "execute_result"
        }
      ],
      "source": [
        "# Meta data Filtering\n",
        "vector_store.similarity_search_with_score(\n",
        "    query = '',\n",
        "    filter = {'team' : 'Chennai Super Kings'}\n",
        ")"
      ]
    },
    {
      "cell_type": "code",
      "execution_count": 24,
      "metadata": {
        "id": "agYzVvyK4X3e"
      },
      "outputs": [],
      "source": [
        "# update documents\n",
        "updated_doc1 = Document(\n",
        "    page_content=\"Virat Kohli, the former captain of Royal Challengers Bangalore (RCB), is renowned for his aggressive leadership and consistent batting performances. He holds the record for the most runs in IPL history, including multiple centuries in a single season. Despite RCB not winning an IPL title under his captaincy, Kohli's passion and fitness set a benchmark for the league. His ability to chase targets and anchor innings has made him one of the most dependable players in T20 cricket.\",\n",
        "    metadata={\"team\": \"Royal Challengers Bangalore\"}\n",
        ")\n",
        "\n",
        "vector_store.update_document(document_id='51ade336-c5a1-4775-99d8-e636956d932a', document=updated_doc1)"
      ]
    },
    {
      "cell_type": "code",
      "execution_count": 25,
      "metadata": {
        "colab": {
          "base_uri": "https://localhost:8080/"
        },
        "id": "YnPOqR0r4X5_",
        "outputId": "17194850-a62c-45dc-9bdc-51305896a2cf"
      },
      "outputs": [
        {
          "data": {
            "text/plain": [
              "{'ids': ['51ade336-c5a1-4775-99d8-e636956d932a',\n",
              "  'bcc33cf1-9cb4-465f-a085-56a923b2c202',\n",
              "  '42617bda-26be-4f74-83a1-621c1f7fab77',\n",
              "  '593282c5-dae7-4e4a-99b6-9a2d1d441cb1',\n",
              "  '5ab58b18-e8d5-4f5b-af2b-6fc63769bc9d'],\n",
              " 'embeddings': array([[-5.44441678e-03, -1.90798938e-02,  7.06373155e-03, ...,\n",
              "         -1.62778609e-02, -3.21337866e-04,  7.24618929e-03],\n",
              "        [-2.70681921e-03, -5.47363961e-05,  2.82030534e-02, ...,\n",
              "         -1.50933377e-02,  5.93815418e-03, -1.16601437e-02],\n",
              "        [ 7.83727213e-04, -4.76402277e-03,  1.23708826e-02, ...,\n",
              "         -1.72387529e-02,  7.74397107e-04,  2.93532619e-03],\n",
              "        [-2.71391869e-02,  8.87096301e-03,  2.69362777e-02, ...,\n",
              "         -2.58583203e-02,  9.02314577e-03, -1.99992992e-02],\n",
              "        [-1.81433018e-02,  1.27527108e-02,  3.47932205e-02, ...,\n",
              "         -3.03654689e-02, -5.85236121e-03,  5.21374308e-03]],\n",
              "       shape=(5, 1536)),\n",
              " 'documents': [\"Virat Kohli, the former captain of Royal Challengers Bangalore (RCB), is renowned for his aggressive leadership and consistent batting performances. He holds the record for the most runs in IPL history, including multiple centuries in a single season. Despite RCB not winning an IPL title under his captaincy, Kohli's passion and fitness set a benchmark for the league. His ability to chase targets and anchor innings has made him one of the most dependable players in T20 cricket.\",\n",
              "  \"Rohit Sharma is the most successful captain in IPL history, leading Mumbai Indians to five titles. He's known for his calm demeanor and ability to play big innings under pressure.\",\n",
              "  'MS Dhoni, famously known as Captain Cool, has led Chennai Super Kings to multiple IPL titles. His finishing skills, wicketkeeping, and leadership are legendary.',\n",
              "  'Jasprit Bumrah is considered one of the best fast bowlers in T20 cricket. Playing for Mumbai Indians, he is known for his yorkers and death-over expertise.',\n",
              "  'Ravindra Jadeja is a dynamic all-rounder who contributes with both bat and ball. Representing Chennai Super Kings, his quick fielding and match-winning performances make him a key player.'],\n",
              " 'uris': None,\n",
              " 'included': ['embeddings', 'documents', 'metadatas'],\n",
              " 'data': None,\n",
              " 'metadatas': [{'team': 'Royal Challengers Bangalore'},\n",
              "  {'team': 'Mumbai Indians'},\n",
              "  {'team': 'Chennai Super Kings'},\n",
              "  {'team': 'Mumbai Indians'},\n",
              "  {'team': 'Chennai Super Kings'}]}"
            ]
          },
          "execution_count": 25,
          "metadata": {},
          "output_type": "execute_result"
        }
      ],
      "source": [
        "# view documents\n",
        "vector_store.get(include=['embeddings','documents', 'metadatas'])"
      ]
    },
    {
      "cell_type": "code",
      "execution_count": 26,
      "metadata": {
        "id": "Bzf6-sEy4X8o"
      },
      "outputs": [],
      "source": [
        "# delete document\n",
        "vector_store.delete(ids=['51ade336-c5a1-4775-99d8-e636956d932a'])"
      ]
    },
    {
      "cell_type": "code",
      "execution_count": null,
      "metadata": {
        "id": "rRhMAQSb4YCZ"
      },
      "outputs": [],
      "source": []
    },
    {
      "cell_type": "code",
      "execution_count": null,
      "metadata": {
        "id": "bKfiJ11h4YE6"
      },
      "outputs": [],
      "source": []
    },
    {
      "cell_type": "code",
      "execution_count": null,
      "metadata": {
        "id": "S5lLVDQn4YHz"
      },
      "outputs": [],
      "source": []
    }
  ],
  "metadata": {
    "colab": {
      "provenance": []
    },
    "kernelspec": {
      "display_name": "genai",
      "language": "python",
      "name": "python3"
    },
    "language_info": {
      "codemirror_mode": {
        "name": "ipython",
        "version": 3
      },
      "file_extension": ".py",
      "mimetype": "text/x-python",
      "name": "python",
      "nbconvert_exporter": "python",
      "pygments_lexer": "ipython3",
      "version": "3.13.5"
    }
  },
  "nbformat": 4,
  "nbformat_minor": 0
}
